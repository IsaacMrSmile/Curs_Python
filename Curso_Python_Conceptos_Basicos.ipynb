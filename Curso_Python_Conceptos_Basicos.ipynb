{
  "nbformat": 4,
  "nbformat_minor": 0,
  "metadata": {
    "colab": {
      "name": "Curso_Python_Conceptos_Basicos.ipynb",
      "provenance": [],
      "authorship_tag": "ABX9TyNokhy5qplM0cukkeOqGeWn",
      "include_colab_link": true
    },
    "kernelspec": {
      "name": "python3",
      "display_name": "Python 3"
    }
  },
  "cells": [
    {
      "cell_type": "markdown",
      "metadata": {
        "id": "view-in-github",
        "colab_type": "text"
      },
      "source": [
        "<a href=\"https://colab.research.google.com/github/IsaacMrSmile/Curs_Python/blob/main/Curso_Python_Conceptos_Basicos.ipynb\" target=\"_parent\"><img src=\"https://colab.research.google.com/assets/colab-badge.svg\" alt=\"Open In Colab\"/></a>"
      ]
    },
    {
      "cell_type": "markdown",
      "metadata": {
        "id": "DRyJ7A6WNPSC"
      },
      "source": [
        "# Conceptos Basicos de  Python\r\n",
        "\r\n",
        "\r\n",
        "1.   Variable\r\n",
        "2.   Operadores\r\n",
        "3.   DataType\r\n",
        "4.   Functions\r\n",
        "\r\n",
        "\r\n",
        "\r\n"
      ]
    },
    {
      "cell_type": "code",
      "metadata": {
        "colab": {
          "base_uri": "https://localhost:8080/"
        },
        "id": "CIWW9-SvNmpZ",
        "outputId": "6807ef8c-eaad-45dc-8d29-de2149c0296a"
      },
      "source": [
        "#  Variable\r\n",
        "\r\n",
        "\r\n",
        "np_population = 1000\r\n",
        "print(np_population)\r\n",
        "print(type(np_population))"
      ],
      "execution_count": 5,
      "outputs": [
        {
          "output_type": "stream",
          "text": [
            "1000\n",
            "<class 'int'>\n"
          ],
          "name": "stdout"
        }
      ]
    },
    {
      "cell_type": "code",
      "metadata": {
        "colab": {
          "base_uri": "https://localhost:8080/"
        },
        "id": "iDiML5M0OGRD",
        "outputId": "946f67c6-93e3-4994-ee50-1490a80bf13d"
      },
      "source": [
        "x = 5 \r\n",
        "y = 6\r\n",
        "z = 7\r\n",
        "z, y, z = 5, 6, 7\r\n",
        "np_population, ch_population = 1000, 2000\r\n",
        "print(np_population, ch_population)"
      ],
      "execution_count": 9,
      "outputs": [
        {
          "output_type": "stream",
          "text": [
            "1000 2000\n"
          ],
          "name": "stdout"
        }
      ]
    },
    {
      "cell_type": "code",
      "metadata": {
        "id": "IkYNHwvJOmD1"
      },
      "source": [
        "# pythonic way: minusculas, _\r\n",
        "full_name = 'Paul Miller'\r\n"
      ],
      "execution_count": 10,
      "outputs": []
    },
    {
      "cell_type": "code",
      "metadata": {
        "colab": {
          "base_uri": "https://localhost:8080/"
        },
        "id": "FQeC7ijpO70t",
        "outputId": "a4934c54-73f9-4e1b-a140-793f4c769ffa"
      },
      "source": [
        "# Operadores Aritmeticos\r\n",
        "\r\n",
        "# +, -, *, /\r\n",
        "\r\n",
        "\r\n",
        "x, y = 3, 4\r\n",
        "\r\n",
        "print(x + y*5)\r\n",
        "print ((x + y)*5)\r\n",
        "print ( x -y)\r\n",
        "print (x / y)"
      ],
      "execution_count": 15,
      "outputs": [
        {
          "output_type": "stream",
          "text": [
            "23\n",
            "35\n",
            "-1\n",
            "0.75\n"
          ],
          "name": "stdout"
        }
      ]
    },
    {
      "cell_type": "code",
      "metadata": {
        "colab": {
          "base_uri": "https://localhost:8080/"
        },
        "id": "aXeYEVGfPgI2",
        "outputId": "eef4f35c-fc2a-4d9d-8103-17c375f19c0a"
      },
      "source": [
        "# los valores aritmeticos tambien pueden ser usados con string\r\n",
        "\r\n",
        "word = ' Hello'\r\n",
        "print(word * 4)\r\n",
        "print(word * 6)\r\n",
        "print (word + str(6))"
      ],
      "execution_count": 20,
      "outputs": [
        {
          "output_type": "stream",
          "text": [
            " Hello Hello Hello Hello\n",
            " Hello Hello Hello Hello Hello Hello\n",
            " Hello6\n"
          ],
          "name": "stdout"
        }
      ]
    },
    {
      "cell_type": "code",
      "metadata": {
        "colab": {
          "base_uri": "https://localhost:8080/"
        },
        "id": "g_wWEAkyP4FQ",
        "outputId": "cc78e9f8-e03a-4b67-b757-145e2c0e979e"
      },
      "source": [
        "# Operador modulo %, cual extrae el residuo de una division\r\n",
        "\r\n",
        "print( 9 % 2)\r\n",
        "print (23 % 10)"
      ],
      "execution_count": 23,
      "outputs": [
        {
          "output_type": "stream",
          "text": [
            "1\n",
            "3\n"
          ],
          "name": "stdout"
        }
      ]
    },
    {
      "cell_type": "code",
      "metadata": {
        "colab": {
          "base_uri": "https://localhost:8080/"
        },
        "id": "QQioiQUMQSin",
        "outputId": "73b3c865-dac8-4005-be6c-c2fc7a57b291"
      },
      "source": [
        "# Potencia **, \r\n",
        "\r\n",
        "number = 5\r\n",
        "power = 2\r\n",
        "print(number ** power)\r\n",
        "print (3.5 ** 3)"
      ],
      "execution_count": 26,
      "outputs": [
        {
          "output_type": "stream",
          "text": [
            "25\n",
            "42.875\n"
          ],
          "name": "stdout"
        }
      ]
    },
    {
      "cell_type": "code",
      "metadata": {
        "colab": {
          "base_uri": "https://localhost:8080/"
        },
        "id": "7G_inS5UQhTz",
        "outputId": "d146dcb1-44d2-4440-afb1-e78f99393674"
      },
      "source": [
        "# division entera //\r\n",
        "\r\n",
        "print(9 // 2)"
      ],
      "execution_count": 28,
      "outputs": [
        {
          "output_type": "stream",
          "text": [
            "4\n"
          ],
          "name": "stdout"
        }
      ]
    },
    {
      "cell_type": "code",
      "metadata": {
        "colab": {
          "base_uri": "https://localhost:8080/"
        },
        "id": "y1KRhT90Qmpe",
        "outputId": "45ac80c8-b433-4e4e-8671-6da2a6c0d890"
      },
      "source": [
        "# Operdaoreds Logicos \r\n",
        "# AND\r\n",
        "\r\n",
        "age = 40 \r\n",
        "is_adult = age > 16 and age < 60 \r\n",
        "print(is_adult)\r\n",
        "\r\n",
        "\r\n",
        "user, pasword =  'admin', '123'\r\n",
        "is_login =  user == 'admin' and pasword == '123'\r\n",
        "print(is_login)\r\n",
        "\r\n",
        "\r\n",
        "user, pasword =  'root', '123'\r\n",
        "is_login =  user == 'admin' and pasword == '123'\r\n",
        "print(is_login)"
      ],
      "execution_count": 31,
      "outputs": [
        {
          "output_type": "stream",
          "text": [
            "True\n",
            "True\n",
            "False\n"
          ],
          "name": "stdout"
        }
      ]
    },
    {
      "cell_type": "code",
      "metadata": {
        "colab": {
          "base_uri": "https://localhost:8080/"
        },
        "id": "rgsxTdPvXWiT",
        "outputId": "56ad19bf-32de-4623-ae6e-00f71a138edd"
      },
      "source": [
        "# NOT , negar los valores TRUE\r\n",
        "\r\n",
        "is_not_adult = not (is_adult)\r\n",
        "print(is_not_adult)\r\n",
        "\r\n",
        "is_not_allow =  not (is_login)\r\n",
        "print (is_not_allow)\r\n"
      ],
      "execution_count": 37,
      "outputs": [
        {
          "output_type": "stream",
          "text": [
            "False\n",
            "True\n"
          ],
          "name": "stdout"
        }
      ]
    },
    {
      "cell_type": "code",
      "metadata": {
        "colab": {
          "base_uri": "https://localhost:8080/"
        },
        "id": "Rh6CJ5F9anAH",
        "outputId": "332af779-c253-4dc0-9aff-7cbca8846127"
      },
      "source": [
        "# or, evalua si el valor del lado izquiero o derecho se cumple\r\n",
        "\r\n",
        "name = 'Paul'\r\n",
        "is_student = name == 'Paul' or name == 'Mark'\r\n",
        "print(is_student)\r\n",
        "\r\n",
        "name = 'Mary'\r\n",
        "is_student = name == 'Paul' or name == 'Mark'\r\n",
        "print(is_student)\r\n"
      ],
      "execution_count": 40,
      "outputs": [
        {
          "output_type": "stream",
          "text": [
            "True\n",
            "False\n"
          ],
          "name": "stdout"
        }
      ]
    },
    {
      "cell_type": "code",
      "metadata": {
        "colab": {
          "base_uri": "https://localhost:8080/"
        },
        "id": "ZFTYENE9bJcj",
        "outputId": "70a7cd42-9cc6-488a-8975-d29adf5dbfb7"
      },
      "source": [
        "# Tipos de Datos= int, float, string, booleang\r\n",
        "\r\n",
        "x = 4.5\r\n",
        "y = 4\r\n",
        "\r\n",
        "print(type(x), type(y))\r\n",
        "\r\n",
        "x = int(4.5)\r\n",
        "y = float (4)\r\n",
        "\r\n",
        "print(type(x), type(y))"
      ],
      "execution_count": 43,
      "outputs": [
        {
          "output_type": "stream",
          "text": [
            "<class 'float'> <class 'int'>\n",
            "<class 'int'> <class 'float'>\n"
          ],
          "name": "stdout"
        }
      ]
    },
    {
      "cell_type": "code",
      "metadata": {
        "colab": {
          "base_uri": "https://localhost:8080/"
        },
        "id": "FBhNVV8WbmI2",
        "outputId": "e36f7a13-4452-44a5-81b9-73ae4c0e1158"
      },
      "source": [
        "# <, >, >=, <=, ==, !=\r\n",
        "\r\n",
        "print(None == 0)\r\n",
        "print('Hi' > 'Hello')\r\n",
        "print(4.5 <= 3.6)"
      ],
      "execution_count": 48,
      "outputs": [
        {
          "output_type": "stream",
          "text": [
            "False\n",
            "True\n",
            "False\n"
          ],
          "name": "stdout"
        }
      ]
    },
    {
      "cell_type": "code",
      "metadata": {
        "colab": {
          "base_uri": "https://localhost:8080/"
        },
        "id": "MS1iDuDEb64-",
        "outputId": "345aa408-c12f-4fac-c3e7-200cb9d97147"
      },
      "source": [
        "word = 'Hello'\r\n",
        "word_ = \"Hello\"\r\n",
        "# el resultado es el mismo\r\n",
        "result_ = 'Welcome to \"Macdonalds\"'\r\n",
        "print(result_)\r\n",
        "\r\n",
        "result = 'Welcome to \"Macdonal\\'s\"'\r\n",
        "print(result)"
      ],
      "execution_count": 51,
      "outputs": [
        {
          "output_type": "stream",
          "text": [
            "Welcome to \"Macdonalds\"\n",
            "Welcome to \"Macdonal's\"\n"
          ],
          "name": "stdout"
        }
      ]
    },
    {
      "cell_type": "code",
      "metadata": {
        "colab": {
          "base_uri": "https://localhost:8080/"
        },
        "id": "7iiRn9-ncay5",
        "outputId": "f4247b7e-00a2-42f3-80e3-c3be7021e287"
      },
      "source": [
        "#Funciones\r\n",
        "\r\n",
        "## lower, pasar toda la variable a minuscula\r\n",
        "\r\n",
        "word = 'Hello There'\r\n",
        "word_ = 'hello there'\r\n",
        "print(word.lower())\r\n",
        "print(word_.islower())"
      ],
      "execution_count": 58,
      "outputs": [
        {
          "output_type": "stream",
          "text": [
            "hello there\n",
            "True\n"
          ],
          "name": "stdout"
        }
      ]
    },
    {
      "cell_type": "code",
      "metadata": {
        "colab": {
          "base_uri": "https://localhost:8080/"
        },
        "id": "7l18YIyBePKc",
        "outputId": "e1c4e472-f8c9-4749-bd42-9deff76f5cdd"
      },
      "source": [
        "# count, contar elementos\r\n",
        "print (word.count('e'))\r\n",
        "print (word.find('e'))"
      ],
      "execution_count": 61,
      "outputs": [
        {
          "output_type": "stream",
          "text": [
            "3\n",
            "1\n"
          ],
          "name": "stdout"
        }
      ]
    },
    {
      "cell_type": "code",
      "metadata": {
        "colab": {
          "base_uri": "https://localhost:8080/"
        },
        "id": "ALSxqb7Teen_",
        "outputId": "ab097f13-a9a3-41cf-d11b-3fc107c0765c"
      },
      "source": [
        "# format, imprime sentencias\r\n",
        "\r\n",
        "print('Welcome {} to the AI course '.format('Paul'))"
      ],
      "execution_count": 63,
      "outputs": [
        {
          "output_type": "stream",
          "text": [
            "Welcome Paul to the AI course \n"
          ],
          "name": "stdout"
        }
      ]
    },
    {
      "cell_type": "code",
      "metadata": {
        "colab": {
          "base_uri": "https://localhost:8080/"
        },
        "id": "qvI11uRBez0e",
        "outputId": "a9a4f129-d0ee-48fa-8cd1-2b116d4595d1"
      },
      "source": [
        "# split, convirte una oracion en una lista\r\n",
        "\r\n",
        "new_word =  'I like extreme sport'\r\n",
        "print(new_word.split())\r\n",
        "print (new_word.split(' ',2)) # separa en argunmentos, un valor para separalo, segundo armguneto maximo de cantidad de separarlos"
      ],
      "execution_count": 68,
      "outputs": [
        {
          "output_type": "stream",
          "text": [
            "['I', 'like', 'extreme', 'sport']\n",
            "['I', 'like', 'extreme sport']\n"
          ],
          "name": "stdout"
        }
      ]
    }
  ]
}