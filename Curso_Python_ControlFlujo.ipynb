{
  "nbformat": 4,
  "nbformat_minor": 0,
  "metadata": {
    "colab": {
      "name": "Curso_Python_ControlFlujo.ipynb",
      "private_outputs": true,
      "provenance": [],
      "authorship_tag": "ABX9TyPgmvelgHMbzRCYfFTWESzo",
      "include_colab_link": true
    },
    "kernelspec": {
      "name": "python3",
      "display_name": "Python 3"
    }
  },
  "cells": [
    {
      "cell_type": "markdown",
      "metadata": {
        "id": "view-in-github",
        "colab_type": "text"
      },
      "source": [
        "<a href=\"https://colab.research.google.com/github/IsaacMrSmile/Curs_Python/blob/main/Curso_Python_ControlFlujo.ipynb\" target=\"_parent\"><img src=\"https://colab.research.google.com/assets/colab-badge.svg\" alt=\"Open In Colab\"/></a>"
      ]
    },
    {
      "cell_type": "markdown",
      "metadata": {
        "id": "Gs4qdPKRG8tH"
      },
      "source": [
        "# Control de flujo\r\n"
      ]
    },
    {
      "cell_type": "markdown",
      "metadata": {
        "id": "hiiIje0SHFVx"
      },
      "source": [
        "# if"
      ]
    },
    {
      "cell_type": "code",
      "metadata": {
        "id": "yiOoLZIOimlr"
      },
      "source": [
        "# if, si una condicion es verdadera o falsa\r\n",
        "\r\n",
        "x, y = 12, 10\r\n",
        "if x > y: \r\n",
        "    print( '{} es mayor a  {}'.format(x, y)) # debemos respetar la sangria ya que python, no identificara el codigo\r\n",
        "    "
      ],
      "execution_count": null,
      "outputs": []
    },
    {
      "cell_type": "code",
      "metadata": {
        "id": "16QuJjStHXti"
      },
      "source": [
        " season = 'summer'\r\n",
        " list_friends = []\r\n",
        " beach_name = ''\r\n",
        " if season == 'summer':  # la lista se cumplira si cumple la condicion de if\r\n",
        "     print('go to the beach')\r\n",
        "     list_friends = ['Carmen', 'Jose']\r\n",
        "     beach_name = 'Rio de Janeiro'\r\n",
        "print(list_friends)"
      ],
      "execution_count": null,
      "outputs": []
    },
    {
      "cell_type": "code",
      "metadata": {
        "id": "aG7V8CdTH0Nc"
      },
      "source": [
        " season = 'winter'\r\n",
        " list_friends = []\r\n",
        " beach_name = ''\r\n",
        " if season == 'summer':  # la lista se cumplira si cumple la condicion de if\r\n",
        "     print('go to the beach')\r\n",
        "     list_friends = ['Carmen', 'Jose']\r\n",
        "     beach_name = 'Rio de Janeiro'\r\n",
        "else: # si la condicion no cumple\r\n",
        "    print('stay home')\r\n",
        "print(list_friends)"
      ],
      "execution_count": null,
      "outputs": []
    },
    {
      "cell_type": "code",
      "metadata": {
        "id": "Af-qRuhFI4Ub"
      },
      "source": [
        "buget = 500\r\n",
        "holidays = 'India'\r\n",
        "\r\n",
        "if holidays == 'New York':\r\n",
        "    budget = 1000\r\n",
        "elif  holidays == 'India': # concatenar muchas condicionales \"if\"\r\n",
        "    budget = 2000    \r\n",
        "elif holidays == 'Brazil':  # en pytho no funciona \"else if\" en vez se pone \"elif\"\r\n",
        "    budget == 1500\r\n",
        "else:\r\n",
        "    budget = 50\r\n",
        "print('Presupuesto total {}'.format(budget))"
      ],
      "execution_count": null,
      "outputs": []
    }
  ]
}