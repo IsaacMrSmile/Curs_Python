{
  "nbformat": 4,
  "nbformat_minor": 0,
  "metadata": {
    "colab": {
      "name": "Curso_Python_ControlFlujo.ipynb",
      "private_outputs": true,
      "provenance": [],
      "authorship_tag": "ABX9TyO1mUyIT7OygqmmFTbkEymJ",
      "include_colab_link": true
    },
    "kernelspec": {
      "name": "python3",
      "display_name": "Python 3"
    }
  },
  "cells": [
    {
      "cell_type": "markdown",
      "metadata": {
        "id": "view-in-github",
        "colab_type": "text"
      },
      "source": [
        "<a href=\"https://colab.research.google.com/github/IsaacMrSmile/Curs_Python/blob/main/Curso_Python_ControlFlujo.ipynb\" target=\"_parent\"><img src=\"https://colab.research.google.com/assets/colab-badge.svg\" alt=\"Open In Colab\"/></a>"
      ]
    },
    {
      "cell_type": "markdown",
      "metadata": {
        "id": "Gs4qdPKRG8tH"
      },
      "source": [
        "# Control de flujo\r\n"
      ]
    },
    {
      "cell_type": "markdown",
      "metadata": {
        "id": "hiiIje0SHFVx"
      },
      "source": [
        "# if"
      ]
    },
    {
      "cell_type": "code",
      "metadata": {
        "id": "yiOoLZIOimlr"
      },
      "source": [
        "# if, si una condicion es verdadera o falsa\r\n",
        "\r\n",
        "x, y = 12, 10\r\n",
        "if x > y: \r\n",
        "    print( '{} es mayor a  {}'.format(x, y)) # debemos respetar la sangria ya que python, no identificara el codigo\r\n",
        "    "
      ],
      "execution_count": null,
      "outputs": []
    },
    {
      "cell_type": "code",
      "metadata": {
        "id": "16QuJjStHXti"
      },
      "source": [
        " season = 'summer'\r\n",
        " list_friends = []\r\n",
        " beach_name = ''\r\n",
        " if season == 'summer':  # la lista se cumplira si cumple la condicion de if\r\n",
        "     print('go to the beach')\r\n",
        "     list_friends = ['Carmen', 'Jose']\r\n",
        "     beach_name = 'Rio de Janeiro'\r\n",
        "print(list_friends)"
      ],
      "execution_count": null,
      "outputs": []
    },
    {
      "cell_type": "code",
      "metadata": {
        "id": "aG7V8CdTH0Nc"
      },
      "source": [
        " season = 'winter'\r\n",
        " list_friends = []\r\n",
        " beach_name = ''\r\n",
        " if season == 'summer':  # la lista se cumplira si cumple la condicion de if\r\n",
        "     print('go to the beach')\r\n",
        "     list_friends = ['Carmen', 'Jose']\r\n",
        "     beach_name = 'Rio de Janeiro'\r\n",
        "else: # si la condicion no cumple\r\n",
        "    print('stay home')\r\n",
        "print(list_friends)"
      ],
      "execution_count": null,
      "outputs": []
    },
    {
      "cell_type": "code",
      "metadata": {
        "id": "Af-qRuhFI4Ub"
      },
      "source": [
        "buget = 500\r\n",
        "holidays = 'India'\r\n",
        "\r\n",
        "if holidays == 'New York':\r\n",
        "    budget = 1000\r\n",
        "elif  holidays == 'India': # concatenar muchas condicionales \"if\"\r\n",
        "    budget = 2000    \r\n",
        "elif holidays == 'Brazil':  # en pytho no funciona \"else if\" en vez se pone \"elif\"\r\n",
        "    budget == 1500\r\n",
        "else:\r\n",
        "    budget = 50\r\n",
        "print('Presupuesto total {}'.format(budget))"
      ],
      "execution_count": null,
      "outputs": []
    },
    {
      "cell_type": "markdown",
      "metadata": {
        "id": "u4m-sGz1KR0P"
      },
      "source": [
        "# For in list\r\n",
        "\r\n",
        "Es repetir la instruccion en un bloque de codigo\r\n"
      ]
    },
    {
      "cell_type": "code",
      "metadata": {
        "id": "XFc6WzdPKfrM"
      },
      "source": [
        "numbers = [1, 2, 3, 4]\r\n",
        "for number in numbers: # la variable se pone los valores de la lista, cada elemento es asigando\r\n",
        "    print(number)\r\n",
        "\r\n",
        "# funcion que facilita crear listas\r\n",
        "range(0, 5, 1)\r\n",
        "for number in range (1,4,2): # python toma desde \"0\"\r\n",
        "    print(number)\r\n",
        "\r\n"
      ],
      "execution_count": null,
      "outputs": []
    },
    {
      "cell_type": "code",
      "metadata": {
        "id": "7hKwL5IQMoUo"
      },
      "source": [
        "colors = ['white', 'Black', 'Red']\r\n",
        "lower_colors = []\r\n",
        "capitalized_colors = []\r\n",
        "\r\n",
        "for color in colors:\r\n",
        "    lower_colors.append(color.lower()) # cambiar a minuscula, se agrega a una nueva variable\r\n",
        "    capitalized_colors.append(color.upper()) # cambiar a mayuscula\r\n",
        "print (lower_colors)\r\n",
        "print (capitalized_colors)\r\n"
      ],
      "execution_count": null,
      "outputs": []
    },
    {
      "cell_type": "markdown",
      "metadata": {
        "id": "qIXOtG4aN32-"
      },
      "source": [
        "# For in Dictionary"
      ]
    },
    {
      "cell_type": "code",
      "metadata": {
        "id": "Dtzp1hMON7OU"
      },
      "source": [
        "students = {'Mary' : 30, 'Pable' : 45}\r\n",
        "for student in students:\r\n",
        "    print (student)"
      ],
      "execution_count": null,
      "outputs": []
    },
    {
      "cell_type": "code",
      "metadata": {
        "id": "BEvnIigLOO6s"
      },
      "source": [
        "students = {'Mary' : 30, 'Pable' : 45}\r\n",
        "for student in students.values():\r\n",
        "    print (student)\r\n",
        "\r\n",
        "students = {'Mary' : 30, 'Pable' : 45} \r\n",
        "for name, age  in students.items(): # obtener la clave y la valor \"items\"\r\n",
        "    print (name, age)"
      ],
      "execution_count": null,
      "outputs": []
    },
    {
      "cell_type": "code",
      "metadata": {
        "id": "iBxiBj2TgG-f"
      },
      "source": [
        "fruits = {'orange': 4, 'apples': 10}\r\n",
        "count = 0\r\n",
        "for element in fruits.values():\r\n",
        "    count += element\r\n",
        "print(count)"
      ],
      "execution_count": null,
      "outputs": []
    }
  ]
}