{
  "nbformat": 4,
  "nbformat_minor": 0,
  "metadata": {
    "colab": {
      "name": "Curso_Python_ControlFlujo.ipynb",
      "private_outputs": true,
      "provenance": [],
      "authorship_tag": "ABX9TyMoo3QWagGgfiOvoky1ZO1H",
      "include_colab_link": true
    },
    "kernelspec": {
      "name": "python3",
      "display_name": "Python 3"
    }
  },
  "cells": [
    {
      "cell_type": "markdown",
      "metadata": {
        "id": "view-in-github",
        "colab_type": "text"
      },
      "source": [
        "<a href=\"https://colab.research.google.com/github/IsaacMrSmile/Curs_Python/blob/main/Curso_Python_ControlFlujo.ipynb\" target=\"_parent\"><img src=\"https://colab.research.google.com/assets/colab-badge.svg\" alt=\"Open In Colab\"/></a>"
      ]
    },
    {
      "cell_type": "markdown",
      "metadata": {
        "id": "Gs4qdPKRG8tH"
      },
      "source": [
        "# Control de flujo\r\n"
      ]
    },
    {
      "cell_type": "markdown",
      "metadata": {
        "id": "hiiIje0SHFVx"
      },
      "source": [
        "# if"
      ]
    },
    {
      "cell_type": "code",
      "metadata": {
        "id": "yiOoLZIOimlr"
      },
      "source": [
        "# if, si una condicion es verdadera o falsa\r\n",
        "\r\n",
        "x, y = 12, 10\r\n",
        "if x > y: \r\n",
        "    print( '{} es mayor a  {}'.format(x, y)) # debemos respetar la sangria ya que python, no identificara el codigo\r\n",
        "    "
      ],
      "execution_count": null,
      "outputs": []
    },
    {
      "cell_type": "code",
      "metadata": {
        "id": "16QuJjStHXti"
      },
      "source": [
        " season = 'summer'\r\n",
        " list_friends = []\r\n",
        " beach_name = ''\r\n",
        " if season == 'summer':  # la lista se cumplira si cumple la condicion de if\r\n",
        "     print('go to the beach')\r\n",
        "     list_friends = ['Carmen', 'Jose']\r\n",
        "     beach_name = 'Rio de Janeiro'\r\n",
        "print(list_friends)"
      ],
      "execution_count": null,
      "outputs": []
    },
    {
      "cell_type": "code",
      "metadata": {
        "id": "aG7V8CdTH0Nc"
      },
      "source": [
        " season = 'winter'\r\n",
        " list_friends = []\r\n",
        " beach_name = ''\r\n",
        " if season == 'summer':  # la lista se cumplira si cumple la condicion de if\r\n",
        "     print('go to the beach')\r\n",
        "     list_friends = ['Carmen', 'Jose']\r\n",
        "     beach_name = 'Rio de Janeiro'\r\n",
        "else: # si la condicion no cumple\r\n",
        "    print('stay home')\r\n",
        "print(list_friends)"
      ],
      "execution_count": null,
      "outputs": []
    },
    {
      "cell_type": "code",
      "metadata": {
        "id": "Af-qRuhFI4Ub"
      },
      "source": [
        "buget = 500\r\n",
        "holidays = 'India'\r\n",
        "\r\n",
        "if holidays == 'New York':\r\n",
        "    budget = 1000\r\n",
        "elif  holidays == 'India': # concatenar muchas condicionales \"if\"\r\n",
        "    budget = 2000    \r\n",
        "elif holidays == 'Brazil':  # en pytho no funciona \"else if\" en vez se pone \"elif\"\r\n",
        "    budget == 1500\r\n",
        "else:\r\n",
        "    budget = 50\r\n",
        "print('Presupuesto total {}'.format(budget))"
      ],
      "execution_count": null,
      "outputs": []
    },
    {
      "cell_type": "markdown",
      "metadata": {
        "id": "u4m-sGz1KR0P"
      },
      "source": [
        "# For in list\r\n",
        "\r\n",
        "Es repetir la instruccion en un bloque de codigo\r\n"
      ]
    },
    {
      "cell_type": "code",
      "metadata": {
        "id": "XFc6WzdPKfrM"
      },
      "source": [
        "numbers = [1, 2, 3, 4]\r\n",
        "for number in numbers: # la variable se pone los valores de la lista, cada elemento es asigando\r\n",
        "    print(number)\r\n",
        "\r\n",
        "# funcion que facilita crear listas\r\n",
        "range(0, 5, 1)\r\n",
        "for number in range (1,4,2): # python toma desde \"0\"\r\n",
        "    print(number)\r\n",
        "\r\n"
      ],
      "execution_count": null,
      "outputs": []
    },
    {
      "cell_type": "code",
      "metadata": {
        "id": "7hKwL5IQMoUo"
      },
      "source": [
        "colors = ['white', 'Black', 'Red']\r\n",
        "lower_colors = []\r\n",
        "capitalized_colors = []\r\n",
        "\r\n",
        "for color in colors:\r\n",
        "    lower_colors.append(color.lower()) # cambiar a minuscula, se agrega a una nueva variable\r\n",
        "    capitalized_colors.append(color.upper()) # cambiar a mayuscula\r\n",
        "print (lower_colors)\r\n",
        "print (capitalized_colors)\r\n"
      ],
      "execution_count": null,
      "outputs": []
    },
    {
      "cell_type": "markdown",
      "metadata": {
        "id": "qIXOtG4aN32-"
      },
      "source": [
        "# For in Dictionary"
      ]
    },
    {
      "cell_type": "code",
      "metadata": {
        "id": "Dtzp1hMON7OU"
      },
      "source": [
        "students = {'Mary' : 30, 'Pable' : 45}\r\n",
        "for student in students:\r\n",
        "    print (student)"
      ],
      "execution_count": null,
      "outputs": []
    },
    {
      "cell_type": "code",
      "metadata": {
        "id": "BEvnIigLOO6s"
      },
      "source": [
        "students = {'Mary' : 30, 'Pable' : 45}\r\n",
        "for student in students.values():\r\n",
        "    print (student)\r\n",
        "\r\n",
        "students = {'Mary' : 30, 'Pable' : 45} \r\n",
        "for name, age  in students.items(): # obtener la clave y la valor \"items\"\r\n",
        "    print (name, age)"
      ],
      "execution_count": null,
      "outputs": []
    },
    {
      "cell_type": "code",
      "metadata": {
        "id": "iBxiBj2TgG-f"
      },
      "source": [
        "fruits = {'orange': 4, 'apples': 10}\r\n",
        "count = 0\r\n",
        "for element in fruits.values():\r\n",
        "    count += element\r\n",
        "print(count)"
      ],
      "execution_count": null,
      "outputs": []
    },
    {
      "cell_type": "markdown",
      "metadata": {
        "id": "5L7Xq6YxhE4v"
      },
      "source": [
        "# While\r\n",
        "\r\n",
        "Es otra manera de repetir un bloque de codigo\r\n"
      ]
    },
    {
      "cell_type": "code",
      "metadata": {
        "id": "_ecNUTJthRYv"
      },
      "source": [
        "count = 0\r\n",
        "while count < 5:\r\n",
        "    print('count {}'.format(count)) # imprimir varias veces una sentencia siempre y cuando la valor sea menor a 5\r\n",
        "    count += 1 # Actulizar la variable count, por cada vez que entre sumarle un valor (1) (bucle)\r\n"
      ],
      "execution_count": null,
      "outputs": []
    },
    {
      "cell_type": "code",
      "metadata": {
        "id": "Tv1VqH8siGxx"
      },
      "source": [
        "cards = [ 4, 2, 8, 13] # numero de cartas\r\n",
        "my_cards = []\r\n",
        "\r\n",
        "while sum(my_cards) < 21:\r\n",
        "    my_cards.append(cards.pop())\r\n",
        "    # sigue agregando cartas hasta que la suma de cantidad de elementos de esta lista sea menor a 21,\r\n",
        "    # mientras sea menor a 21 seguira agregando cartas, por lo tanto se quitara elementos de una baraja\r\n",
        "    #appends agrega a la baraja, y con pop saca de la baraja cartas cual suma sea mayor a 21\r\n",
        "print(my_cards) "
      ],
      "execution_count": null,
      "outputs": []
    },
    {
      "cell_type": "code",
      "metadata": {
        "id": "NQ0QHPusi4Ke"
      },
      "source": [
        "# for : cuando se conosco la cantidad de iteradciones \r\n",
        "# while: cantidad de iteraciones no conocida"
      ],
      "execution_count": null,
      "outputs": []
    },
    {
      "cell_type": "markdown",
      "metadata": {
        "id": "--D3jkvsjpYu"
      },
      "source": [
        "# Break, Continue\r\n",
        "\r\n",
        "* break : sale del bucle\r\n",
        "\r\n",
        "* continue : salta una iteracion\r\n",
        "\r\n",
        "Como salir de los bucles"
      ]
    },
    {
      "cell_type": "code",
      "metadata": {
        "id": "HROVG6mqkMrp"
      },
      "source": [
        "# break\r\n",
        "\r\n",
        "future_savings = {'January' :  130, 'February': 160, 'March': 180, 'April': 140, 'May': 90}\r\n",
        "final_mounth = '' # en que mes tendre\r\n",
        "total = 0 # se va ir contado, valor inicial es \"0\"\r\n",
        "# se ve en que mes voy a tener ahorrado 500 dolares, usando diccionarios, \r\n",
        "# los valores se van a ir sumando hasta llegar a la condicion\r\n",
        "\r\n",
        "for mounth, money in future_savings.items(): # asignar a variables\r\n",
        "    total += money # ahorro de cada recorrido\r\n",
        "    if total >= 500: \r\n",
        "        final_mounth = mounth\r\n",
        "        break # aca es donde se rompe el bucle\r\n",
        "\r\n",
        "print (final_mounth, total)\r\n"
      ],
      "execution_count": null,
      "outputs": []
    },
    {
      "cell_type": "code",
      "metadata": {
        "id": "w_hfUUtEl48i"
      },
      "source": [
        "# continue\r\n",
        "\r\n",
        "future_savings = {'January' :  130, 'February': 160, 'March': 180, 'April': 140, 'May': 90}\r\n",
        "final_mounth = ''\r\n",
        "total = 0\r\n",
        "# sumar cada mes de ahorro a execpcion de 'marzo'\r\n",
        "\r\n",
        "for mounth, money in future_savings.items():\r\n",
        "    if mounth == 'March':\r\n",
        "        continue\r\n",
        "    total += money\r\n",
        "print(final_mounth, total)"
      ],
      "execution_count": null,
      "outputs": []
    },
    {
      "cell_type": "markdown",
      "metadata": {
        "id": "116vzIq8peN9"
      },
      "source": [
        "# Zip \r\n",
        " Elementos pre-compilados, conjuntos de tuplas\r\n",
        "\r\n"
      ]
    },
    {
      "cell_type": "code",
      "metadata": {
        "id": "bFK0jFN3pmc9"
      },
      "source": [
        "status_logs = ['HTTP OK', 'HTTP NOT FOUND']\r\n",
        "page_logs = ['main.html', 'index.html']\r\n",
        "\r\n",
        "# combinar dos listas y devolverlas en tuplas\r\n",
        "\r\n",
        "for status, page in zip(status_logs, page_logs): # un conjunto de tuplas nos devuelve\r\n",
        "    print(status, page)\r\n",
        "\r\n",
        "\r\n",
        "# crear una lista a partir de dos, el cual usamos zip, combinando las dos listas, zip devuelve un conjunto, debemos usar \"list\" para formar la lista\r\n",
        "# devuelve una lista con las dos duplas, cada dupla esta conformada con los elemenos de las dos listas\r\n",
        "list_logs = list(zip(status_logs, page_logs))\r\n",
        "print(list_logs)\r\n",
        "\r\n",
        "\r\n",
        "# separando las duplas\r\n",
        "tuple_status, tuple_page = zip(*list_logs)\r\n",
        "print(tuple_status, tuple_page)\r\n",
        "# devuelve en duplas, ha sido separa da las lista en duplas"
      ],
      "execution_count": null,
      "outputs": []
    },
    {
      "cell_type": "code",
      "metadata": {
        "id": "ADiVbsN-xZWE"
      },
      "source": [
        "countries = ['Brasil', 'Chile', 'China']\r\n",
        "capital = ['Brasilia', 'Santiago', 'Pekin']\r\n",
        "\r\n",
        "for country, capital in zip(countries, capital):\r\n",
        "    print (country, capital)\r\n",
        "\r\n",
        "# Cuando usar zip?, zip ocupa muy poca memoria, con el ejemplo anterios, se usa para recorrer unas listas muy grandes"
      ],
      "execution_count": null,
      "outputs": []
    }
  ]
}