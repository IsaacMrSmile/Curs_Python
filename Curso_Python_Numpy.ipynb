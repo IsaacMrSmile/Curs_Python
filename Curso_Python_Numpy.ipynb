{
  "nbformat": 4,
  "nbformat_minor": 0,
  "metadata": {
    "colab": {
      "name": "Curso_Python_Numpy.ipynb",
      "private_outputs": true,
      "provenance": [],
      "authorship_tag": "ABX9TyPqChgssBuhpRxTHrePbmcN",
      "include_colab_link": true
    },
    "kernelspec": {
      "name": "python3",
      "display_name": "Python 3"
    }
  },
  "cells": [
    {
      "cell_type": "markdown",
      "metadata": {
        "id": "view-in-github",
        "colab_type": "text"
      },
      "source": [
        "<a href=\"https://colab.research.google.com/github/IsaacMrSmile/Curs_Python/blob/main/Curso_Python_Numpy.ipynb\" target=\"_parent\"><img src=\"https://colab.research.google.com/assets/colab-badge.svg\" alt=\"Open In Colab\"/></a>"
      ]
    },
    {
      "cell_type": "markdown",
      "metadata": {
        "id": "g6kkZN5s8ATh"
      },
      "source": [
        "# Numpy"
      ]
    },
    {
      "cell_type": "markdown",
      "metadata": {
        "id": "vaygYcpc8EEo"
      },
      "source": [
        "## Acceder, insertar y eliminar elementos"
      ]
    },
    {
      "cell_type": "code",
      "metadata": {
        "id": "XPexEETl7w_-"
      },
      "source": [
        "import numpy  as np"
      ],
      "execution_count": null,
      "outputs": []
    },
    {
      "cell_type": "code",
      "metadata": {
        "id": "sU573jnW8OiG"
      },
      "source": [
        "# Acceder a los elementos de un narray\r\n",
        "\r\n",
        "x = np.array([1, 2, 3, 4]) # lista de 4 elementos\r\n",
        "\r\n",
        "print(x[0])\r\n",
        "print(x[3])\r\n",
        "\r\n",
        "print(x[-1])\r\n",
        "print(x[-2])"
      ],
      "execution_count": null,
      "outputs": []
    },
    {
      "cell_type": "code",
      "metadata": {
        "id": "QtVNnOtc8t0q"
      },
      "source": [
        "# modificar, los elementos de acuerdo a su indice\r\n",
        "x[0] = 30\r\n",
        "x[-1] =  60\r\n",
        "print(x)"
      ],
      "execution_count": null,
      "outputs": []
    },
    {
      "cell_type": "code",
      "metadata": {
        "id": "BrzfpZex8_PU"
      },
      "source": [
        " x = np.array([[1, 2, 3], [4, 5, 6]])\r\n",
        " print (x)\r\n",
        "\r\n",
        " print(x[0])\r\n",
        " \r\n",
        " print(x[0, 0]) # tomamos el primer elementos de la primera fila\r\n",
        " print(x[0, 1]) # tomamos el segundo elementos de la primera fila\r\n",
        "\r\n",
        "# modificar elementos\r\n",
        "\r\n",
        "x[0, 1] = 20\r\n",
        "print (x)"
      ],
      "execution_count": null,
      "outputs": []
    },
    {
      "cell_type": "code",
      "metadata": {
        "id": "o7NgjPGexKGG"
      },
      "source": [
        "# eliminar elementos de un array\r\n",
        "\r\n",
        "x = np.array([1, 2, 3, 4])\r\n",
        "print(x)\r\n",
        "\r\n",
        "x = np.delete(x,[0,1]) # eliminando elementos\r\n",
        "\r\n",
        "\r\n",
        "print(x)"
      ],
      "execution_count": null,
      "outputs": []
    },
    {
      "cell_type": "code",
      "metadata": {
        "id": "Jv-dX0ZRxk1n"
      },
      "source": [
        "# eliminar array de 2D, dos filas y columnas\r\n",
        "\r\n",
        "x = np.array([[1, 2, 3], [4, 5, 6]])\r\n",
        "\r\n",
        "#print(x)\r\n",
        "x= np.delete(x, 0, axis = 1) #  argumento, fila, indicar si quiero eliminar fila o columna, usamos el argumento axis =  0 fila 1 columna\r\n",
        "\r\n",
        "print(x)"
      ],
      "execution_count": null,
      "outputs": []
    },
    {
      "cell_type": "code",
      "metadata": {
        "id": "kpPJqBg7zyb4"
      },
      "source": [
        "# append, lo que hace es agregar una lista de elementos a nuestro array\r\n",
        "\r\n",
        "x = np.array([1, 2, 3, 4])\r\n",
        "print(x)\r\n",
        "\r\n",
        "x = np.append(x, 5) # ( el array, el elemnto que quiero ingresar)\r\n",
        "x = np.append(x, [6, 7]) # agregar mas de dos elementos\r\n",
        "print (x)"
      ],
      "execution_count": null,
      "outputs": []
    },
    {
      "cell_type": "code",
      "metadata": {
        "id": "wLfKwLIf0lvN"
      },
      "source": [
        "x = np.array([[1, 2, 3],[4, 5, 6]])\r\n",
        "print(x)\r\n",
        "\r\n",
        "x = np.append(x, [[7, 8, 9]], axis = 0) # agregamos elementos a las filas\r\n",
        "print (x)\r\n",
        "\r\n",
        "x = np.array(x, [[7],[9]], axis = 1)\r\n",
        "\r\n",
        "print(x)"
      ],
      "execution_count": null,
      "outputs": []
    },
    {
      "cell_type": "code",
      "metadata": {
        "id": "eByt9hLs2FpN"
      },
      "source": [
        "# insert, insertar valores, necesitamos 3 parametros\r\n",
        "\r\n",
        "x = np.array([1, 2, 3, 4])\r\n",
        "print(x)\r\n",
        "\r\n",
        "x = np.insert(x, 2, 5) # parametros(el array, la posisicion del element, el elemeno o los elementos que queremos añadir)\r\n",
        "print(x)\r\n",
        "x = np.insert(x, 0, [10, 20])\r\n",
        "print(x)"
      ],
      "execution_count": null,
      "outputs": []
    },
    {
      "cell_type": "code",
      "metadata": {
        "id": "jHOusc2D6DG8"
      },
      "source": [
        "x = np.array([[1, 2, 3], [4, 5, 6]])\r\n",
        "print(x)\r\n",
        "x = np.insert(x, 1, [20, 30, 40], axis=0)\r\n",
        "print(x)\r\n",
        "\r\n",
        "x = np.insert(x, 1, [20, 30, 40], axis=1)\r\n",
        "print(x)"
      ],
      "execution_count": null,
      "outputs": []
    },
    {
      "cell_type": "code",
      "metadata": {
        "id": "DHzy-MqU6xMt"
      },
      "source": [
        "# vstack\r\n",
        "\r\n",
        "x = np.array([1, 2]) # 1 dimension\r\n",
        "y = np.array([[3, 4], [5, 6]])  # 2D dimensiones\r\n",
        "\r\n",
        "print(x)\r\n",
        "print(y)\r\n",
        "\r\n",
        "\r\n",
        "z = np.vstack((x, y))\r\n",
        "print (z)"
      ],
      "execution_count": null,
      "outputs": []
    }
  ]
}