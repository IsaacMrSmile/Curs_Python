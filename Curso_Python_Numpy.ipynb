{
  "nbformat": 4,
  "nbformat_minor": 0,
  "metadata": {
    "colab": {
      "name": "Curso_Python_Numpy.ipynb",
      "private_outputs": true,
      "provenance": [],
      "authorship_tag": "ABX9TyPM9IDmXD8K1y5I9SIrHg7a",
      "include_colab_link": true
    },
    "kernelspec": {
      "name": "python3",
      "display_name": "Python 3"
    }
  },
  "cells": [
    {
      "cell_type": "markdown",
      "metadata": {
        "id": "view-in-github",
        "colab_type": "text"
      },
      "source": [
        "<a href=\"https://colab.research.google.com/github/IsaacMrSmile/Curs_Python/blob/main/Curso_Python_Numpy.ipynb\" target=\"_parent\"><img src=\"https://colab.research.google.com/assets/colab-badge.svg\" alt=\"Open In Colab\"/></a>"
      ]
    },
    {
      "cell_type": "markdown",
      "metadata": {
        "id": "g6kkZN5s8ATh"
      },
      "source": [
        "# Numpy\r\n",
        "Nos ayuda de a leer grandes cantidades de datos transformandolas en vectores o matrizes"
      ]
    },
    {
      "cell_type": "markdown",
      "metadata": {
        "id": "vaygYcpc8EEo"
      },
      "source": [
        "## Acceder, insertar y eliminar elementos"
      ]
    },
    {
      "cell_type": "code",
      "metadata": {
        "id": "XPexEETl7w_-"
      },
      "source": [
        "import numpy  as np"
      ],
      "execution_count": null,
      "outputs": []
    },
    {
      "cell_type": "code",
      "metadata": {
        "id": "sU573jnW8OiG"
      },
      "source": [
        "# Acceder a los elementos de un narray\r\n",
        "\r\n",
        "x = np.array([1, 2, 3, 4]) # lista de 4 elementos\r\n",
        "\r\n",
        "print(x[0])\r\n",
        "print(x[3])\r\n",
        "\r\n",
        "print(x[-1])\r\n",
        "print(x[-2])"
      ],
      "execution_count": null,
      "outputs": []
    },
    {
      "cell_type": "code",
      "metadata": {
        "id": "QtVNnOtc8t0q"
      },
      "source": [
        "# modificar, los elementos de acuerdo a su indice\r\n",
        "x[0] = 30\r\n",
        "x[-1] =  60\r\n",
        "print(x)"
      ],
      "execution_count": null,
      "outputs": []
    },
    {
      "cell_type": "code",
      "metadata": {
        "id": "BrzfpZex8_PU"
      },
      "source": [
        " x = np.array([[1, 2, 3], [4, 5, 6]])\r\n",
        " print (x)\r\n",
        "\r\n",
        " print(x[0])\r\n",
        " \r\n",
        " print(x[0, 0]) # tomamos el primer elementos de la primera fila\r\n",
        " print(x[0, 1]) # tomamos el segundo elementos de la primera fila\r\n",
        "\r\n",
        "# modificar elementos\r\n",
        "\r\n",
        "x[0, 1] = 20\r\n",
        "print (x)"
      ],
      "execution_count": null,
      "outputs": []
    },
    {
      "cell_type": "code",
      "metadata": {
        "id": "o7NgjPGexKGG"
      },
      "source": [
        "# eliminar elementos de un array\r\n",
        "\r\n",
        "x = np.array([1, 2, 3, 4])\r\n",
        "print(x)\r\n",
        "\r\n",
        "x = np.delete(x,[0,1]) # eliminando elementos\r\n",
        "\r\n",
        "\r\n",
        "print(x)"
      ],
      "execution_count": null,
      "outputs": []
    },
    {
      "cell_type": "code",
      "metadata": {
        "id": "Jv-dX0ZRxk1n"
      },
      "source": [
        "# eliminar array de 2D, dos filas y columnas\r\n",
        "\r\n",
        "x = np.array([[1, 2, 3], [4, 5, 6]])\r\n",
        "\r\n",
        "#print(x)\r\n",
        "x= np.delete(x, 0, axis = 1) #  argumento, fila, indicar si quiero eliminar fila o columna, usamos el argumento axis =  0 fila 1 columna\r\n",
        "\r\n",
        "print(x)"
      ],
      "execution_count": null,
      "outputs": []
    },
    {
      "cell_type": "code",
      "metadata": {
        "id": "kpPJqBg7zyb4"
      },
      "source": [
        "# append, lo que hace es agregar una lista de elementos a nuestro array\r\n",
        "\r\n",
        "x = np.array([1, 2, 3, 4])\r\n",
        "print(x)\r\n",
        "\r\n",
        "x = np.append(x, 5) # ( el array, el elemnto que quiero ingresar)\r\n",
        "x = np.append(x, [6, 7]) # agregar mas de dos elementos\r\n",
        "print (x)"
      ],
      "execution_count": null,
      "outputs": []
    },
    {
      "cell_type": "code",
      "metadata": {
        "id": "wLfKwLIf0lvN"
      },
      "source": [
        "x = np.array([[1, 2, 3],[4, 5, 6]])\r\n",
        "print(x)\r\n",
        "\r\n",
        "x = np.append(x, [[7, 8, 9]], axis = 0) # agregamos elementos a las filas\r\n",
        "print (x)\r\n",
        "\r\n",
        "x = np.array(x, [[7],[9]], axis = 1)\r\n",
        "\r\n",
        "print(x)"
      ],
      "execution_count": null,
      "outputs": []
    },
    {
      "cell_type": "code",
      "metadata": {
        "id": "eByt9hLs2FpN"
      },
      "source": [
        "# insert, insertar valores, necesitamos 3 parametros\r\n",
        "\r\n",
        "x = np.array([1, 2, 3, 4])\r\n",
        "print(x)\r\n",
        "\r\n",
        "x = np.insert(x, 2, 5) # parametros(el array, la posisicion del element, el elemeno o los elementos que queremos añadir)\r\n",
        "print(x)\r\n",
        "x = np.insert(x, 0, [10, 20])\r\n",
        "print(x)"
      ],
      "execution_count": null,
      "outputs": []
    },
    {
      "cell_type": "code",
      "metadata": {
        "id": "jHOusc2D6DG8"
      },
      "source": [
        "x = np.array([[1, 2, 3], [4, 5, 6]])\r\n",
        "print(x)\r\n",
        "x = np.insert(x, 1, [20, 30, 40], axis=0)\r\n",
        "print(x)\r\n",
        "\r\n",
        "x = np.insert(x, 1, [20, 30, 40], axis=1)\r\n",
        "print(x)"
      ],
      "execution_count": null,
      "outputs": []
    },
    {
      "cell_type": "code",
      "metadata": {
        "id": "DHzy-MqU6xMt"
      },
      "source": [
        "# vstack\r\n",
        "\r\n",
        "x = np.array([1, 2]) # 1 dimension\r\n",
        "y = np.array([[3, 4], [5, 6]])  # 2D dimensiones\r\n",
        "\r\n",
        "print(x)\r\n",
        "print(y)\r\n",
        "\r\n",
        "\r\n",
        "z = np.vstack((x, y))\r\n",
        "print (z)"
      ],
      "execution_count": null,
      "outputs": []
    },
    {
      "cell_type": "markdown",
      "metadata": {
        "id": "0jQC1Tw07x07"
      },
      "source": [
        "# Numpy: Diferencia ndarrays con listas de python\r\n"
      ]
    },
    {
      "cell_type": "code",
      "metadata": {
        "id": "Mhvg24W18e12"
      },
      "source": [
        "import numpy as np\r\n",
        "import time\r\n"
      ],
      "execution_count": null,
      "outputs": []
    },
    {
      "cell_type": "code",
      "metadata": {
        "id": "v6HaPyYc-3-H"
      },
      "source": [
        "x = np.random.random(100000000) # funcion random, da valores aleatorios, rango\r\n",
        "x\r\n"
      ],
      "execution_count": null,
      "outputs": []
    },
    {
      "cell_type": "code",
      "metadata": {
        "id": "yICPk4Qf_KtV"
      },
      "source": [
        "# convencional de python\r\n",
        "start =  time.time() # devuelve el tiempo actual, y depues de que haga la operacion se imprimira el tiempo que se ha demorado\r\n",
        "sum(x) / len(x)\r\n",
        "\r\n",
        "print(time.time() - start)\r\n"
      ],
      "execution_count": null,
      "outputs": []
    },
    {
      "cell_type": "code",
      "metadata": {
        "id": "KTAUwd34_rCY"
      },
      "source": [
        "# numpy\r\n",
        "start = time.time()\r\n",
        "np.mean(x)\r\n",
        "print(time.time() - start)"
      ],
      "execution_count": null,
      "outputs": []
    },
    {
      "cell_type": "markdown",
      "metadata": {
        "id": "PBF7skewAaxh"
      },
      "source": [
        "# Creaciones de arrays multidimensionales\r\n"
      ]
    },
    {
      "cell_type": "markdown",
      "metadata": {
        "id": "b95QjzKkAoyg"
      },
      "source": [
        "## Python List"
      ]
    },
    {
      "cell_type": "code",
      "metadata": {
        "id": "GDJxFeqpAfS3"
      },
      "source": [
        "import numpy as np\r\n"
      ],
      "execution_count": null,
      "outputs": []
    },
    {
      "cell_type": "code",
      "metadata": {
        "id": "msOiAartAvYr"
      },
      "source": [
        "x = np.array([4, 5, 6, 7])\r\n",
        "x"
      ],
      "execution_count": null,
      "outputs": []
    },
    {
      "cell_type": "code",
      "metadata": {
        "id": "xsvd_rZCA0bV"
      },
      "source": [
        "# shape, nos devuelve la dimension del array\r\n",
        "print(x.shape)\r\n",
        "\r\n",
        "#type, nos da el tipo de objeto es\r\n",
        "print(type(x))\r\n",
        "\r\n",
        "#dtype, nos da el tipo de elemento dentro del array\r\n",
        "print(x.dtype)\r\n"
      ],
      "execution_count": null,
      "outputs": []
    },
    {
      "cell_type": "code",
      "metadata": {
        "id": "QqX3iVSvBN4B"
      },
      "source": [
        "x = np.array(['Hello', 'there'])\r\n",
        "x\r\n",
        "print(x.shape)\r\n",
        "print(type(x))\r\n",
        "print(x.dtype)\r\n",
        "\r\n",
        "# en las listas se puede combinar tipos de datos , ya sea string, bool, float"
      ],
      "execution_count": null,
      "outputs": []
    },
    {
      "cell_type": "code",
      "metadata": {
        "id": "ugy4uvAXBmLu"
      },
      "source": [
        "y = np.array([3, 5, 6, 'Hello']) # no podemos combinar tipos de objeto dentro del array\r\n",
        "y"
      ],
      "execution_count": null,
      "outputs": []
    },
    {
      "cell_type": "code",
      "metadata": {
        "id": "32Lk2wj6BwPU"
      },
      "source": [
        "x = np.array([[1, 3.5, 4], [6, 7, 8]], dtype = np.int64) # agregamos el typo de datos que queremos que nos muestre (int64) valor entero\r\n",
        "x\r\n",
        "print(x.shape)\r\n",
        "print(type(x))\r\n",
        "print(x.dtype)\r\n",
        "\r\n",
        "# (2, 3) 2 filas, 3 columnas\r\n"
      ],
      "execution_count": null,
      "outputs": []
    },
    {
      "cell_type": "markdown",
      "metadata": {
        "id": "WAH4WhnyFigw"
      },
      "source": [
        "## Creaciones arrays con Numpy : Funciones Numpy\r\n"
      ]
    },
    {
      "cell_type": "code",
      "metadata": {
        "id": "jpo6zEnfGCpW"
      },
      "source": [
        "import numpy as np\r\n",
        "\r\n",
        "# zeros, creamos un array multidimensional"
      ],
      "execution_count": null,
      "outputs": []
    },
    {
      "cell_type": "code",
      "metadata": {
        "id": "X6vvEsxuGNyP"
      },
      "source": [
        "# zeros\r\n",
        "\r\n",
        "x = np.zeros((3, 4), dtype = int) # 3 filas , 4 columnas\r\n",
        "print(x)\r\n",
        "print(x.shape)\r\n",
        "print(type(x))\r\n",
        "print(x.dtype)"
      ],
      "execution_count": null,
      "outputs": []
    },
    {
      "cell_type": "code",
      "metadata": {
        "id": "kuY4faTJGs8d"
      },
      "source": [
        " # ones\r\n",
        " x = np.ones((3, 4), dtype = int)\r\n",
        " print(x)\r\n",
        " print(x.shape)\r\n",
        " print(type(x))\r\n",
        " print(x.dtype)\r\n"
      ],
      "execution_count": null,
      "outputs": []
    },
    {
      "cell_type": "code",
      "metadata": {
        "id": "djuzX-AjG3VH"
      },
      "source": [
        "x = np.full((3, 4), 4) # array de 3 filas y 4 columnas de valores llenas de numero 4\r\n",
        "print(x)"
      ],
      "execution_count": null,
      "outputs": []
    },
    {
      "cell_type": "code",
      "metadata": {
        "id": "pF2jblXPHKul"
      },
      "source": [
        "# eye  = matriz identidad\r\n",
        "x = np.eye(3) # le damos el numero de filas\r\n",
        "print(x)"
      ],
      "execution_count": null,
      "outputs": []
    },
    {
      "cell_type": "code",
      "metadata": {
        "id": "beeQ620mHVKL"
      },
      "source": [
        "# diag, matriz diagonal, de diferentes valores\r\n",
        "\r\n",
        "x = np.diag([7, 8, 9]) # le insertamos los valores que queremos en la diagonal\r\n",
        "print(x)"
      ],
      "execution_count": null,
      "outputs": []
    },
    {
      "cell_type": "code",
      "metadata": {
        "id": "CY2NQr-yHxNE"
      },
      "source": [
        "# arange, sirve para conexiones numericas  a lista\r\n",
        "\r\n",
        "x = np.arange(10) # un listado de numeros desde 0 y termina un numero antes del que se indica\r\n",
        "print(x)\r\n",
        "\r\n",
        "x = np.arange(4, 10)\r\n",
        "print(x)\r\n",
        "\r\n",
        "x = np.arange(4, 10, 2)  # inicio, final, intervalo\r\n",
        "print (x)\r\n"
      ],
      "execution_count": null,
      "outputs": []
    },
    {
      "cell_type": "code",
      "metadata": {
        "id": "EiBW3A0RQVir"
      },
      "source": [
        "#  linspace\r\n",
        "\r\n",
        "x = np.linspace(4, 10, 5) #agrega elementos 5 elementos igualmente distribuidos\r\n",
        "print(x)"
      ],
      "execution_count": null,
      "outputs": []
    },
    {
      "cell_type": "code",
      "metadata": {
        "id": "qoISZTypQunL"
      },
      "source": [
        "# random , generar arrays de manera aleatoria\r\n",
        "\r\n",
        "x = np.random.random((2,3)) # arrays aleatorio de 2 filas 3 columnas\r\n",
        "print(x)"
      ],
      "execution_count": null,
      "outputs": []
    },
    {
      "cell_type": "code",
      "metadata": {
        "id": "9XiymVrNQ7Qr"
      },
      "source": [
        "# randint , crea un array multidimensional numeros aleatorios\r\n",
        "\r\n",
        "x = np.random.randint(2, 9, (3,2)) # numero medio, agregarle numero mayor, y las dimensiones de la matriz 3 filas y 2 columnas\r\n",
        "print(x)"
      ],
      "execution_count": null,
      "outputs": []
    },
    {
      "cell_type": "code",
      "metadata": {
        "id": "nERBDO7sR0TJ"
      },
      "source": [
        "# reshape, sirve para cambiar la dimensiones de un array\r\n",
        "\r\n",
        "y = np.reshape(x, (2, 3)) # matriz que voy a cambiar, y la dimensiones filas-columnas\r\n",
        "print(y)"
      ],
      "execution_count": null,
      "outputs": []
    },
    {
      "cell_type": "markdown",
      "metadata": {
        "id": "PECIPQHIUJlL"
      },
      "source": [
        "## Slicing\r\n",
        "\r\n",
        "nos permite obtener parte de un array multidimensional\r\n",
        "\r\n",
        "1. ndarray [star : end]\r\n",
        "2. ndarray [start:]\r\n",
        "3. ndarray[:end]\r\n",
        "\r\n",
        "\r\n",
        "\r\n",
        "\r\n",
        "\r\n"
      ]
    },
    {
      "cell_type": "code",
      "metadata": {
        "id": "zSyIoimeUTTR"
      },
      "source": [
        "import numpy as np\r\n"
      ],
      "execution_count": null,
      "outputs": []
    },
    {
      "cell_type": "code",
      "metadata": {
        "id": "_RVV7qF4lVmr"
      },
      "source": [
        "x = np.arange(20).reshape(4 ,5) # matriz de 4 filas 5 columnas\r\n",
        "\r\n",
        "print(x)"
      ],
      "execution_count": null,
      "outputs": []
    },
    {
      "cell_type": "code",
      "metadata": {
        "id": "JNH6QuVBlhz7"
      },
      "source": [
        "z = x[0:1] # 0 a 1 obtiene la primera fila y se detenga en la fila de la posicion 1 \r\n",
        "print(z)"
      ],
      "execution_count": null,
      "outputs": []
    },
    {
      "cell_type": "code",
      "metadata": {
        "id": "5A3M94HlmLxz"
      },
      "source": [
        "z = x[0:3] # 0 a 3 obtiene la primera fila y se detenga en la fila de la posicion 1 \r\n",
        "print(z)"
      ],
      "execution_count": null,
      "outputs": []
    },
    {
      "cell_type": "code",
      "metadata": {
        "id": "_xH1NP3KmOYO"
      },
      "source": [
        "z = x[0:1]\r\n",
        "print(z)"
      ],
      "execution_count": null,
      "outputs": []
    },
    {
      "cell_type": "code",
      "metadata": {
        "id": "QIB5zlSLmRGd"
      },
      "source": [
        "z = x[0:2, 0:2] # obtenemos, nos da 2 filas y 2 columnas\r\n",
        "print(z)"
      ],
      "execution_count": null,
      "outputs": []
    },
    {
      "cell_type": "code",
      "metadata": {
        "id": "48XmasNs8kNj"
      },
      "source": [
        "z = x[0:2, 3:] # obtenemos, nos da 2 filas y 2 columnas\r\n",
        "print(z)"
      ],
      "execution_count": null,
      "outputs": []
    },
    {
      "cell_type": "code",
      "metadata": {
        "id": "4ZMwGwDG8s9Y"
      },
      "source": [
        "# slicing con una lista\r\n",
        "\r\n",
        "z = x[0:2, [3,4]] # obtenemos, nos da 2 filas y 2 columnas\r\n",
        "print(z)"
      ],
      "execution_count": null,
      "outputs": []
    },
    {
      "cell_type": "code",
      "metadata": {
        "id": "znH9SLSZ81n9"
      },
      "source": [
        "# slicing con lista\r\n",
        "print(x)\r\n",
        "print ('\\n') # para poder distinguir mejor\r\n",
        "print (z)"
      ],
      "execution_count": null,
      "outputs": []
    },
    {
      "cell_type": "code",
      "metadata": {
        "id": "WNHXl1uaE9P2"
      },
      "source": [
        "z[1, 1] = 99 # z es una vista de \"x\", si yo modifico una variable en z se modifica en x\r\n",
        "print(z)"
      ],
      "execution_count": null,
      "outputs": []
    },
    {
      "cell_type": "code",
      "metadata": {
        "id": "W1rvtvGMFBog"
      },
      "source": [
        "print (x)"
      ],
      "execution_count": null,
      "outputs": []
    },
    {
      "cell_type": "code",
      "metadata": {
        "id": "u-zu9Xy6FkJK"
      },
      "source": [
        "x = np.arange(20). reshape(4, 5)\r\n",
        "print (x)"
      ],
      "execution_count": null,
      "outputs": []
    },
    {
      "cell_type": "code",
      "metadata": {
        "id": "ySHJQ-zcGFTq"
      },
      "source": [
        "z = x[0:2, 3:].copy() # no permite que se modifique la matriz \"x\"\r\n",
        "print(z)\r\n",
        "print('\\n')\r\n",
        "z[1,1]=999\r\n",
        "print (z)\r\n",
        "print('\\n')\r\n",
        "print(x)"
      ],
      "execution_count": null,
      "outputs": []
    },
    {
      "cell_type": "markdown",
      "metadata": {
        "id": "EW-3Y_2NGfua"
      },
      "source": [
        "# Boolean Indexing"
      ]
    },
    {
      "cell_type": "code",
      "metadata": {
        "id": "0M3SAauJGOQH"
      },
      "source": [
        "# nos permite extrar parte de una array \r\n",
        "\r\n",
        "import numpy as np"
      ],
      "execution_count": null,
      "outputs": []
    },
    {
      "cell_type": "code",
      "metadata": {
        "id": "gtdAFkRnHX6q"
      },
      "source": [
        "x = np.arange(50).reshape(5,10)\r\n",
        "print(x)"
      ],
      "execution_count": null,
      "outputs": []
    },
    {
      "cell_type": "code",
      "metadata": {
        "id": "oOGIyzz9Hmcn"
      },
      "source": [
        "# donde antes poniamos indices pondremos condiciones logica\r\n",
        "\r\n",
        "y = x[x > 25]\r\n",
        "print(y)"
      ],
      "execution_count": null,
      "outputs": []
    },
    {
      "cell_type": "code",
      "metadata": {
        "id": "U0nJi6OrHu00"
      },
      "source": [
        "print(x[x <= 40])\r\n",
        "\r\n",
        "print('\\n')\r\n",
        "\r\n",
        "print(x[(x > 25) & (x < 30)])"
      ],
      "execution_count": null,
      "outputs": []
    },
    {
      "cell_type": "code",
      "metadata": {
        "id": "IOvYpoggIKSz"
      },
      "source": [
        "#asignar valores con logica boolenaa\r\n",
        "x[(x > 25) & (x < 30)] = 666\r\n",
        "print(x)\r\n",
        "\r\n",
        "# se usa cuando son array muy grandes\r\n",
        "\r\n"
      ],
      "execution_count": null,
      "outputs": []
    },
    {
      "cell_type": "code",
      "metadata": {
        "id": "4u7b5B9OIdQ3"
      },
      "source": [
        "x = np.random.randint(1, 25, size =(100))\r\n",
        "print(x)"
      ],
      "execution_count": null,
      "outputs": []
    },
    {
      "cell_type": "code",
      "metadata": {
        "id": "74b98Zb7Il8w"
      },
      "source": [
        "print(x[x == 20])\r\n"
      ],
      "execution_count": null,
      "outputs": []
    },
    {
      "cell_type": "markdown",
      "metadata": {
        "id": "D-kEzUKxMYcp"
      },
      "source": [
        "# Arithmetic Operations and Broadcasting"
      ]
    },
    {
      "cell_type": "code",
      "metadata": {
        "id": "QPffgyC_Me5F"
      },
      "source": [
        "# operaciones arimeticas con array\r\n",
        "\r\n",
        "import numpy as np\r\n"
      ],
      "execution_count": null,
      "outputs": []
    },
    {
      "cell_type": "code",
      "metadata": {
        "id": "EELKanP-OJIb"
      },
      "source": [
        "x = np.arange(4)\r\n",
        "y = np.arange(4,8)\r\n",
        "print(x)\r\n",
        "print('\\n')\r\n",
        "print(y)\r\n"
      ],
      "execution_count": null,
      "outputs": []
    },
    {
      "cell_type": "code",
      "metadata": {
        "id": "6Dydl5dUOb_N"
      },
      "source": [
        "print(x + y )\r\n",
        "print('\\n')\r\n",
        "print(np.add(x,y))"
      ],
      "execution_count": null,
      "outputs": []
    },
    {
      "cell_type": "code",
      "metadata": {
        "id": "2Y67Q2n3On5i"
      },
      "source": [
        "print(x - y )\r\n",
        "print('\\n')\r\n",
        "print(np.subtract(x,y))"
      ],
      "execution_count": null,
      "outputs": []
    },
    {
      "cell_type": "code",
      "metadata": {
        "id": "TXqceanUOusM"
      },
      "source": [
        "print(x * y )\r\n",
        "print('\\n')\r\n",
        "print(np.multiply(x,y))"
      ],
      "execution_count": null,
      "outputs": []
    },
    {
      "cell_type": "code",
      "metadata": {
        "id": "AKmCz4twO0kx"
      },
      "source": [
        "print(x / y )\r\n",
        "print('\\n')\r\n",
        "print(np.divide(x,y))"
      ],
      "execution_count": null,
      "outputs": []
    },
    {
      "cell_type": "code",
      "metadata": {
        "id": "hGTxzjONO5Ob"
      },
      "source": [
        "# dimensiones de 2 x 2\r\n",
        "x = np.arange(4).reshape(2,2)\r\n",
        "y = np.arange(4,8).reshape(2,2)\r\n",
        "print(x)\r\n",
        "print('\\n')\r\n",
        "print(y)\r\n"
      ],
      "execution_count": null,
      "outputs": []
    },
    {
      "cell_type": "code",
      "metadata": {
        "id": "8wtcbBnoQvs4"
      },
      "source": [
        "print(x + y )\r\n",
        "print('\\n')\r\n",
        "print(np.add(x,y))"
      ],
      "execution_count": null,
      "outputs": []
    },
    {
      "cell_type": "code",
      "metadata": {
        "id": "8qrdrGeyQ0q3"
      },
      "source": [
        "print(x - y )\r\n",
        "print('\\n')\r\n",
        "print(np.subtract(x,y))"
      ],
      "execution_count": null,
      "outputs": []
    },
    {
      "cell_type": "code",
      "metadata": {
        "id": "NO5Bh2CwQ3wQ"
      },
      "source": [
        "print(x * y )\r\n",
        "print('\\n')\r\n",
        "print(np.multiply(x,y))"
      ],
      "execution_count": null,
      "outputs": []
    },
    {
      "cell_type": "code",
      "metadata": {
        "id": "CsfiZFFbQ6_O"
      },
      "source": [
        "print(x / y )\r\n",
        "print('\\n')\r\n",
        "print(np.divide(x,y))"
      ],
      "execution_count": null,
      "outputs": []
    },
    {
      "cell_type": "code",
      "metadata": {
        "id": "v5i3nFhIQ8RP"
      },
      "source": [
        "print(np.sqrt(x))"
      ],
      "execution_count": null,
      "outputs": []
    },
    {
      "cell_type": "code",
      "metadata": {
        "id": "4CimHhNbRDtE"
      },
      "source": [
        "print(np.exp(x)) #e ** por cada elemento de la array"
      ],
      "execution_count": null,
      "outputs": []
    },
    {
      "cell_type": "code",
      "metadata": {
        "id": "DAuoBBw2RMpX"
      },
      "source": [
        "print(np.power(x, 2)) # elevado a al potencia"
      ],
      "execution_count": null,
      "outputs": []
    },
    {
      "cell_type": "code",
      "metadata": {
        "id": "aj8D7tU6RR99"
      },
      "source": [
        "# mean, std, median"
      ],
      "execution_count": null,
      "outputs": []
    },
    {
      "cell_type": "code",
      "metadata": {
        "id": "HqI5tOQmRa27"
      },
      "source": [
        "print(x)\r\n",
        "print('\\n')\r\n",
        "print(np.mean(x, axis = 0)) #axis = 0 es columna, 1 es fila\r\n",
        "print('\\n')\r\n",
        "print(np.mean(x, axis = 1))\r\n"
      ],
      "execution_count": null,
      "outputs": []
    },
    {
      "cell_type": "code",
      "metadata": {
        "id": "qgHNJbLRRlKM"
      },
      "source": [
        "print(x)\r\n",
        "print('\\n')\r\n",
        "print(np.std(x))\r\n"
      ],
      "execution_count": null,
      "outputs": []
    },
    {
      "cell_type": "code",
      "metadata": {
        "id": "uXQ3uRidRybv"
      },
      "source": [
        "print(x)\r\n",
        "print('\\n')\r\n",
        "print(np.median(x))\r\n",
        "print('\\n')\r\n",
        "print(np.max(x))\r\n",
        "print('\\n')\r\n",
        "print(np.min(x))"
      ],
      "execution_count": null,
      "outputs": []
    },
    {
      "cell_type": "code",
      "metadata": {
        "id": "uoomJHfXSxZL"
      },
      "source": [
        "# Broadcasting, hacer operaciones aritmeticas asi los array sean de diferentes dimensiones\r\n",
        "\r\n",
        "x = np.arange(4).reshape(2,2)\r\n",
        "print(x)"
      ],
      "execution_count": null,
      "outputs": []
    },
    {
      "cell_type": "code",
      "metadata": {
        "id": "gIg-8AUUTIPb"
      },
      "source": [
        "print(x+4)"
      ],
      "execution_count": null,
      "outputs": []
    },
    {
      "cell_type": "code",
      "metadata": {
        "id": "DTfVEpPwTK6Q"
      },
      "source": [
        "y = np.array([ 7, 8])\r\n",
        "y"
      ],
      "execution_count": null,
      "outputs": []
    },
    {
      "cell_type": "code",
      "metadata": {
        "id": "5g5bpD47TRC1"
      },
      "source": [
        "print(x)\r\n",
        "print('\\n')\r\n",
        "print(y)\r\n",
        "print('\\n')\r\n",
        "print( x+y)"
      ],
      "execution_count": null,
      "outputs": []
    },
    {
      "cell_type": "code",
      "metadata": {
        "id": "SCnnmvyzTkU1"
      },
      "source": [
        ""
      ],
      "execution_count": null,
      "outputs": []
    }
  ]
}