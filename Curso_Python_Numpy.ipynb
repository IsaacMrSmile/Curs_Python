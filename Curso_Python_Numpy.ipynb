{
  "nbformat": 4,
  "nbformat_minor": 0,
  "metadata": {
    "colab": {
      "name": "Curso_Python_Numpy.ipynb",
      "private_outputs": true,
      "provenance": [],
      "authorship_tag": "ABX9TyPBiIjclhsIw/EJ6I5vx1LL",
      "include_colab_link": true
    },
    "kernelspec": {
      "name": "python3",
      "display_name": "Python 3"
    }
  },
  "cells": [
    {
      "cell_type": "markdown",
      "metadata": {
        "id": "view-in-github",
        "colab_type": "text"
      },
      "source": [
        "<a href=\"https://colab.research.google.com/github/IsaacMrSmile/Curs_Python/blob/main/Curso_Python_Numpy.ipynb\" target=\"_parent\"><img src=\"https://colab.research.google.com/assets/colab-badge.svg\" alt=\"Open In Colab\"/></a>"
      ]
    },
    {
      "cell_type": "markdown",
      "metadata": {
        "id": "g6kkZN5s8ATh"
      },
      "source": [
        "# Numpy\r\n",
        "Nos ayuda de a leer grandes cantidades de datos transformandolas en vectores o matrizes"
      ]
    },
    {
      "cell_type": "markdown",
      "metadata": {
        "id": "vaygYcpc8EEo"
      },
      "source": [
        "## Acceder, insertar y eliminar elementos"
      ]
    },
    {
      "cell_type": "code",
      "metadata": {
        "id": "XPexEETl7w_-"
      },
      "source": [
        "import numpy  as np"
      ],
      "execution_count": null,
      "outputs": []
    },
    {
      "cell_type": "code",
      "metadata": {
        "id": "sU573jnW8OiG"
      },
      "source": [
        "# Acceder a los elementos de un narray\r\n",
        "\r\n",
        "x = np.array([1, 2, 3, 4]) # lista de 4 elementos\r\n",
        "\r\n",
        "print(x[0])\r\n",
        "print(x[3])\r\n",
        "\r\n",
        "print(x[-1])\r\n",
        "print(x[-2])"
      ],
      "execution_count": null,
      "outputs": []
    },
    {
      "cell_type": "code",
      "metadata": {
        "id": "QtVNnOtc8t0q"
      },
      "source": [
        "# modificar, los elementos de acuerdo a su indice\r\n",
        "x[0] = 30\r\n",
        "x[-1] =  60\r\n",
        "print(x)"
      ],
      "execution_count": null,
      "outputs": []
    },
    {
      "cell_type": "code",
      "metadata": {
        "id": "BrzfpZex8_PU"
      },
      "source": [
        " x = np.array([[1, 2, 3], [4, 5, 6]])\r\n",
        " print (x)\r\n",
        "\r\n",
        " print(x[0])\r\n",
        " \r\n",
        " print(x[0, 0]) # tomamos el primer elementos de la primera fila\r\n",
        " print(x[0, 1]) # tomamos el segundo elementos de la primera fila\r\n",
        "\r\n",
        "# modificar elementos\r\n",
        "\r\n",
        "x[0, 1] = 20\r\n",
        "print (x)"
      ],
      "execution_count": null,
      "outputs": []
    },
    {
      "cell_type": "code",
      "metadata": {
        "id": "o7NgjPGexKGG"
      },
      "source": [
        "# eliminar elementos de un array\r\n",
        "\r\n",
        "x = np.array([1, 2, 3, 4])\r\n",
        "print(x)\r\n",
        "\r\n",
        "x = np.delete(x,[0,1]) # eliminando elementos\r\n",
        "\r\n",
        "\r\n",
        "print(x)"
      ],
      "execution_count": null,
      "outputs": []
    },
    {
      "cell_type": "code",
      "metadata": {
        "id": "Jv-dX0ZRxk1n"
      },
      "source": [
        "# eliminar array de 2D, dos filas y columnas\r\n",
        "\r\n",
        "x = np.array([[1, 2, 3], [4, 5, 6]])\r\n",
        "\r\n",
        "#print(x)\r\n",
        "x= np.delete(x, 0, axis = 1) #  argumento, fila, indicar si quiero eliminar fila o columna, usamos el argumento axis =  0 fila 1 columna\r\n",
        "\r\n",
        "print(x)"
      ],
      "execution_count": null,
      "outputs": []
    },
    {
      "cell_type": "code",
      "metadata": {
        "id": "kpPJqBg7zyb4"
      },
      "source": [
        "# append, lo que hace es agregar una lista de elementos a nuestro array\r\n",
        "\r\n",
        "x = np.array([1, 2, 3, 4])\r\n",
        "print(x)\r\n",
        "\r\n",
        "x = np.append(x, 5) # ( el array, el elemnto que quiero ingresar)\r\n",
        "x = np.append(x, [6, 7]) # agregar mas de dos elementos\r\n",
        "print (x)"
      ],
      "execution_count": null,
      "outputs": []
    },
    {
      "cell_type": "code",
      "metadata": {
        "id": "wLfKwLIf0lvN"
      },
      "source": [
        "x = np.array([[1, 2, 3],[4, 5, 6]])\r\n",
        "print(x)\r\n",
        "\r\n",
        "x = np.append(x, [[7, 8, 9]], axis = 0) # agregamos elementos a las filas\r\n",
        "print (x)\r\n",
        "\r\n",
        "x = np.array(x, [[7],[9]], axis = 1)\r\n",
        "\r\n",
        "print(x)"
      ],
      "execution_count": null,
      "outputs": []
    },
    {
      "cell_type": "code",
      "metadata": {
        "id": "eByt9hLs2FpN"
      },
      "source": [
        "# insert, insertar valores, necesitamos 3 parametros\r\n",
        "\r\n",
        "x = np.array([1, 2, 3, 4])\r\n",
        "print(x)\r\n",
        "\r\n",
        "x = np.insert(x, 2, 5) # parametros(el array, la posisicion del element, el elemeno o los elementos que queremos añadir)\r\n",
        "print(x)\r\n",
        "x = np.insert(x, 0, [10, 20])\r\n",
        "print(x)"
      ],
      "execution_count": null,
      "outputs": []
    },
    {
      "cell_type": "code",
      "metadata": {
        "id": "jHOusc2D6DG8"
      },
      "source": [
        "x = np.array([[1, 2, 3], [4, 5, 6]])\r\n",
        "print(x)\r\n",
        "x = np.insert(x, 1, [20, 30, 40], axis=0)\r\n",
        "print(x)\r\n",
        "\r\n",
        "x = np.insert(x, 1, [20, 30, 40], axis=1)\r\n",
        "print(x)"
      ],
      "execution_count": null,
      "outputs": []
    },
    {
      "cell_type": "code",
      "metadata": {
        "id": "DHzy-MqU6xMt"
      },
      "source": [
        "# vstack\r\n",
        "\r\n",
        "x = np.array([1, 2]) # 1 dimension\r\n",
        "y = np.array([[3, 4], [5, 6]])  # 2D dimensiones\r\n",
        "\r\n",
        "print(x)\r\n",
        "print(y)\r\n",
        "\r\n",
        "\r\n",
        "z = np.vstack((x, y))\r\n",
        "print (z)"
      ],
      "execution_count": null,
      "outputs": []
    },
    {
      "cell_type": "markdown",
      "metadata": {
        "id": "0jQC1Tw07x07"
      },
      "source": [
        "# Numpy: Diferencia ndarrays con listas de python\r\n"
      ]
    },
    {
      "cell_type": "code",
      "metadata": {
        "id": "Mhvg24W18e12"
      },
      "source": [
        "import numpy as np\r\n",
        "import time\r\n"
      ],
      "execution_count": null,
      "outputs": []
    },
    {
      "cell_type": "code",
      "metadata": {
        "id": "v6HaPyYc-3-H"
      },
      "source": [
        "x = np.random.random(100000000) # funcion random, da valores aleatorios, rango\r\n",
        "x\r\n"
      ],
      "execution_count": null,
      "outputs": []
    },
    {
      "cell_type": "code",
      "metadata": {
        "id": "yICPk4Qf_KtV"
      },
      "source": [
        "# convencional de python\r\n",
        "start =  time.time() # devuelve el tiempo actual, y depues de que haga la operacion se imprimira el tiempo que se ha demorado\r\n",
        "sum(x) / len(x)\r\n",
        "\r\n",
        "print(time.time() - start)\r\n"
      ],
      "execution_count": null,
      "outputs": []
    },
    {
      "cell_type": "code",
      "metadata": {
        "id": "KTAUwd34_rCY"
      },
      "source": [
        "# numpy\r\n",
        "start = time.time()\r\n",
        "np.mean(x)\r\n",
        "print(time.time() - start)"
      ],
      "execution_count": null,
      "outputs": []
    },
    {
      "cell_type": "markdown",
      "metadata": {
        "id": "PBF7skewAaxh"
      },
      "source": [
        "# Creaciones de arrays multidimensionales\r\n"
      ]
    },
    {
      "cell_type": "markdown",
      "metadata": {
        "id": "b95QjzKkAoyg"
      },
      "source": [
        "## Python List"
      ]
    },
    {
      "cell_type": "code",
      "metadata": {
        "id": "GDJxFeqpAfS3"
      },
      "source": [
        "import numpy as np\r\n"
      ],
      "execution_count": null,
      "outputs": []
    },
    {
      "cell_type": "code",
      "metadata": {
        "id": "msOiAartAvYr"
      },
      "source": [
        "x = np.array([4, 5, 6, 7])\r\n",
        "x"
      ],
      "execution_count": null,
      "outputs": []
    },
    {
      "cell_type": "code",
      "metadata": {
        "id": "xsvd_rZCA0bV"
      },
      "source": [
        "# shape, nos devuelve la dimension del array\r\n",
        "print(x.shape)\r\n",
        "\r\n",
        "#type, nos da el tipo de objeto es\r\n",
        "print(type(x))\r\n",
        "\r\n",
        "#dtype, nos da el tipo de elemento dentro del array\r\n",
        "print(x.dtype)\r\n"
      ],
      "execution_count": null,
      "outputs": []
    },
    {
      "cell_type": "code",
      "metadata": {
        "id": "QqX3iVSvBN4B"
      },
      "source": [
        "x = np.array(['Hello', 'there'])\r\n",
        "x\r\n",
        "print(x.shape)\r\n",
        "print(type(x))\r\n",
        "print(x.dtype)\r\n",
        "\r\n",
        "# en las listas se puede combinar tipos de datos , ya sea string, bool, float"
      ],
      "execution_count": null,
      "outputs": []
    },
    {
      "cell_type": "code",
      "metadata": {
        "id": "ugy4uvAXBmLu"
      },
      "source": [
        "y = np.array([3, 5, 6, 'Hello']) # no podemos combinar tipos de objeto dentro del array\r\n",
        "y"
      ],
      "execution_count": null,
      "outputs": []
    },
    {
      "cell_type": "code",
      "metadata": {
        "id": "32Lk2wj6BwPU"
      },
      "source": [
        "x = np.array([[1, 3.5, 4], [6, 7, 8]], dtype = np.int64) # agregamos el typo de datos que queremos que nos muestre (int64) valor entero\r\n",
        "x\r\n",
        "print(x.shape)\r\n",
        "print(type(x))\r\n",
        "print(x.dtype)\r\n",
        "\r\n",
        "# (2, 3) 2 filas, 3 columnas\r\n"
      ],
      "execution_count": null,
      "outputs": []
    },
    {
      "cell_type": "markdown",
      "metadata": {
        "id": "WAH4WhnyFigw"
      },
      "source": [
        "## Creaciones arrays con Numpy : Funciones Numpy\r\n"
      ]
    },
    {
      "cell_type": "code",
      "metadata": {
        "id": "jpo6zEnfGCpW"
      },
      "source": [
        "import numpy as np\r\n",
        "\r\n",
        "# zeros, creamos un array multidimensional"
      ],
      "execution_count": null,
      "outputs": []
    },
    {
      "cell_type": "code",
      "metadata": {
        "id": "X6vvEsxuGNyP"
      },
      "source": [
        "# zeros\r\n",
        "\r\n",
        "x = np.zeros((3, 4), dtype = int) # 3 filas , 4 columnas\r\n",
        "print(x)\r\n",
        "print(x.shape)\r\n",
        "print(type(x))\r\n",
        "print(x.dtype)"
      ],
      "execution_count": null,
      "outputs": []
    },
    {
      "cell_type": "code",
      "metadata": {
        "id": "kuY4faTJGs8d"
      },
      "source": [
        " # ones\r\n",
        " x = np.ones((3, 4), dtype = int)\r\n",
        " print(x)\r\n",
        " print(x.shape)\r\n",
        " print(type(x))\r\n",
        " print(x.dtype)\r\n"
      ],
      "execution_count": null,
      "outputs": []
    },
    {
      "cell_type": "code",
      "metadata": {
        "id": "djuzX-AjG3VH"
      },
      "source": [
        "x = np.full((3, 4), 4) # array de 3 filas y 4 columnas de valores llenas de numero 4\r\n",
        "print(x)"
      ],
      "execution_count": null,
      "outputs": []
    },
    {
      "cell_type": "code",
      "metadata": {
        "id": "pF2jblXPHKul"
      },
      "source": [
        "# eye  = matriz identidad\r\n",
        "x = np.eye(3) # le damos el numero de filas\r\n",
        "print(x)"
      ],
      "execution_count": null,
      "outputs": []
    },
    {
      "cell_type": "code",
      "metadata": {
        "id": "beeQ620mHVKL"
      },
      "source": [
        "# diag, matriz diagonal, de diferentes valores\r\n",
        "\r\n",
        "x = np.diag([7, 8, 9]) # le insertamos los valores que queremos en la diagonal\r\n",
        "print(x)"
      ],
      "execution_count": null,
      "outputs": []
    },
    {
      "cell_type": "code",
      "metadata": {
        "id": "CY2NQr-yHxNE"
      },
      "source": [
        "# arange, sirve para conexiones numericas  a lista\r\n",
        "\r\n",
        "x = np.arange(10) # un listado de numeros desde 0 y termina un numero antes del que se indica\r\n",
        "print(x)\r\n",
        "\r\n",
        "x = np.arange(4, 10)\r\n",
        "print(x)\r\n",
        "\r\n",
        "x = np.arange(4, 10, 2)  # inicio, final, intervalo\r\n",
        "print (x)\r\n"
      ],
      "execution_count": null,
      "outputs": []
    },
    {
      "cell_type": "code",
      "metadata": {
        "id": "EiBW3A0RQVir"
      },
      "source": [
        "#  linspace\r\n",
        "\r\n",
        "x = np.linspace(4, 10, 5) #agrega elementos 5 elementos igualmente distribuidos\r\n",
        "print(x)"
      ],
      "execution_count": null,
      "outputs": []
    },
    {
      "cell_type": "code",
      "metadata": {
        "id": "qoISZTypQunL"
      },
      "source": [
        "# random , generar arrays de manera aleatoria\r\n",
        "\r\n",
        "x = np.random.random((2,3)) # arrays aleatorio de 2 filas 3 columnas\r\n",
        "print(x)"
      ],
      "execution_count": null,
      "outputs": []
    },
    {
      "cell_type": "code",
      "metadata": {
        "id": "9XiymVrNQ7Qr"
      },
      "source": [
        "# randint , crea un array multidimensional numeros aleatorios\r\n",
        "\r\n",
        "x = np.random.randint(2, 9, (3,2)) # numero medio, agregarle numero mayor, y las dimensiones de la matriz 3 filas y 2 columnas\r\n",
        "print(x)"
      ],
      "execution_count": null,
      "outputs": []
    },
    {
      "cell_type": "code",
      "metadata": {
        "id": "nERBDO7sR0TJ"
      },
      "source": [
        "# reshape, sirve para cambiar la dimensiones de un array\r\n",
        "\r\n",
        "y = np.reshape(x, (2, 3)) # matriz que voy a cambiar, y la dimensiones filas-columnas\r\n",
        "print(y)"
      ],
      "execution_count": null,
      "outputs": []
    }
  ]
}