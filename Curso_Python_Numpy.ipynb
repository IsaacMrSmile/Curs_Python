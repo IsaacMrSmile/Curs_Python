{
  "nbformat": 4,
  "nbformat_minor": 0,
  "metadata": {
    "colab": {
      "name": "Curso_Python_Numpy.ipynb",
      "private_outputs": true,
      "provenance": [],
      "authorship_tag": "ABX9TyPag3I/7B8ULWJuVWYN2rqU",
      "include_colab_link": true
    },
    "kernelspec": {
      "name": "python3",
      "display_name": "Python 3"
    }
  },
  "cells": [
    {
      "cell_type": "markdown",
      "metadata": {
        "id": "view-in-github",
        "colab_type": "text"
      },
      "source": [
        "<a href=\"https://colab.research.google.com/github/IsaacMrSmile/Curs_Python/blob/main/Curso_Python_Numpy.ipynb\" target=\"_parent\"><img src=\"https://colab.research.google.com/assets/colab-badge.svg\" alt=\"Open In Colab\"/></a>"
      ]
    },
    {
      "cell_type": "markdown",
      "metadata": {
        "id": "g6kkZN5s8ATh"
      },
      "source": [
        "# Numpy"
      ]
    },
    {
      "cell_type": "markdown",
      "metadata": {
        "id": "vaygYcpc8EEo"
      },
      "source": [
        "## Acceder, insertar y eliminar elementos"
      ]
    },
    {
      "cell_type": "code",
      "metadata": {
        "id": "XPexEETl7w_-"
      },
      "source": [
        "import numpy  as np"
      ],
      "execution_count": null,
      "outputs": []
    },
    {
      "cell_type": "code",
      "metadata": {
        "id": "sU573jnW8OiG"
      },
      "source": [
        "# acceder a los elementos de un narray\r\n",
        "\r\n",
        "x = np.array ([1, 2,3, 4]) # lista de 4 elementos\r\n",
        "\r\n",
        "print(x[0])\r\n",
        "print(x[3])\r\n",
        "\r\n",
        "\r\n",
        "print(x[-1])\r\n",
        "print(x[-2])"
      ],
      "execution_count": null,
      "outputs": []
    },
    {
      "cell_type": "code",
      "metadata": {
        "id": "QtVNnOtc8t0q"
      },
      "source": [
        "# modificar, los elementos de acuerdo a su indice\r\n",
        "\r\n",
        "x[0] = 30\r\n",
        "x[-1] =  60\r\n",
        "print(x)\r\n"
      ],
      "execution_count": null,
      "outputs": []
    },
    {
      "cell_type": "code",
      "metadata": {
        "id": "BrzfpZex8_PU"
      },
      "source": [
        ""
      ],
      "execution_count": null,
      "outputs": []
    }
  ]
}