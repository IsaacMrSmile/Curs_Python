{
  "nbformat": 4,
  "nbformat_minor": 0,
  "metadata": {
    "colab": {
      "name": "Curso_Python_EstructuraDatos.ipynb",
      "provenance": [],
      "include_colab_link": true
    },
    "kernelspec": {
      "name": "python3",
      "display_name": "Python 3"
    }
  },
  "cells": [
    {
      "cell_type": "markdown",
      "metadata": {
        "id": "view-in-github",
        "colab_type": "text"
      },
      "source": [
        "<a href=\"https://colab.research.google.com/github/IsaacMrSmile/Curs_Python/blob/main/Curso_Python_EstructuraDatos.ipynb\" target=\"_parent\"><img src=\"https://colab.research.google.com/assets/colab-badge.svg\" alt=\"Open In Colab\"/></a>"
      ]
    },
    {
      "cell_type": "markdown",
      "metadata": {
        "id": "G3ekW6BzgVvV"
      },
      "source": [
        "# Data Structures "
      ]
    },
    {
      "cell_type": "markdown",
      "metadata": {
        "id": "Gfm3HiXQgqAr"
      },
      "source": [
        "# Lits"
      ]
    },
    {
      "cell_type": "code",
      "metadata": {
        "colab": {
          "base_uri": "https://localhost:8080/"
        },
        "id": "fmc0eu5HgoKr",
        "outputId": "e129b956-fe4f-4140-da9d-aa209fed91c8"
      },
      "source": [
        "# list, acepta cualquier tipo de datos\r\n",
        "\r\n",
        "list_things = [60, 7.8, 'String', True ]\r\n",
        "print(list_things)\r\n",
        "print (list_things[1])\r\n",
        "print (list_things[-3])\r\n"
      ],
      "execution_count": null,
      "outputs": [
        {
          "output_type": "stream",
          "text": [
            "[60, 7.8, 'String', True]\n",
            "7.8\n",
            "7.8\n"
          ],
          "name": "stdout"
        }
      ]
    },
    {
      "cell_type": "code",
      "metadata": {
        "id": "OZLXTbJhCEpg",
        "colab": {
          "base_uri": "https://localhost:8080/"
        },
        "outputId": "a9641791-c2aa-4c77-fae5-c84514b042a1"
      },
      "source": [
        "# Slicing, acceder a mas de un valor de una lista\r\n",
        "\r\n",
        "print(list_things[0:2]) # primer indice, primera posicion que se inicia, el indice dos no lo incluye porque es string, solo es un rango\r\n",
        "print(list_things[:2]) # todos los valors incluyendo desde el cero, solo se obvia\r\n",
        "print(list_things[1:])\r\n",
        "\r\n"
      ],
      "execution_count": null,
      "outputs": [
        {
          "output_type": "stream",
          "text": [
            "[60, 7.8]\n",
            "[60, 7.8]\n",
            "[7.8, 'String', True]\n"
          ],
          "name": "stdout"
        }
      ]
    },
    {
      "cell_type": "code",
      "metadata": {
        "id": "pSU1IPe9C6No",
        "colab": {
          "base_uri": "https://localhost:8080/"
        },
        "outputId": "f9097eff-4bd5-41e5-e756-d72993ad1adf"
      },
      "source": [
        " # Operadores en una lista, not in , in\r\n",
        "\r\n",
        " list_numbers = [1,2,3,4,5]\r\n",
        " print(10 in list_numbers)\r\n",
        " print(2 not in list_numbers)"
      ],
      "execution_count": null,
      "outputs": [
        {
          "output_type": "stream",
          "text": [
            "False\n",
            "False\n"
          ],
          "name": "stdout"
        }
      ]
    },
    {
      "cell_type": "code",
      "metadata": {
        "id": "mgHF-VYIFUap",
        "colab": {
          "base_uri": "https://localhost:8080/"
        },
        "outputId": "f4e981e9-7e18-4af6-e7f7-1da3809ba991"
      },
      "source": [
        "# Mutablity, si nosotros podemos cambir un objeto una vez que ha sido creado\r\n",
        "\r\n",
        "numbers =  [3,4,5,6]\r\n",
        "numbers[0] = 'tres'\r\n",
        "print(numbers)\r\n",
        "word = 'Hello there'\r\n",
        "# los strings  no son mutables"
      ],
      "execution_count": null,
      "outputs": [
        {
          "output_type": "stream",
          "text": [
            "['tres', 4, 5, 6]\n"
          ],
          "name": "stdout"
        }
      ]
    },
    {
      "cell_type": "code",
      "metadata": {
        "id": "Q9_A_tz6FwGn",
        "colab": {
          "base_uri": "https://localhost:8080/"
        },
        "outputId": "4599e3e5-4582-4ae5-8150-a5de56ed1118"
      },
      "source": [
        "# Order, si la posicion de un elemento de la lista se puede usar para acceder a este elemento\r\n",
        "\r\n",
        "print (numbers[0])\r\n",
        "print (word[1])"
      ],
      "execution_count": null,
      "outputs": [
        {
          "output_type": "stream",
          "text": [
            "tres\n",
            "e\n"
          ],
          "name": "stdout"
        }
      ]
    },
    {
      "cell_type": "markdown",
      "metadata": {
        "id": "p6FjneU_GgCF"
      },
      "source": [
        "## Funciones de Listas"
      ]
    },
    {
      "cell_type": "code",
      "metadata": {
        "id": "FKLkV2pCGajQ",
        "colab": {
          "base_uri": "https://localhost:8080/"
        },
        "outputId": "5f7f53ec-9b97-47ad-f1bb-774d2f9d25ce"
      },
      "source": [
        "# len, retorna la cantidad de elementos de una lista\r\n",
        "\r\n",
        "numbers = [40, 50, 2, 3, 34, 5]\r\n",
        "letters = ['b', 'y', 'u', 'i']\r\n",
        "\r\n",
        "print(len(numbers))\r\n",
        "print(len(letters))"
      ],
      "execution_count": null,
      "outputs": [
        {
          "output_type": "stream",
          "text": [
            "6\n",
            "4\n"
          ],
          "name": "stdout"
        }
      ]
    },
    {
      "cell_type": "code",
      "metadata": {
        "id": "d3KYXyoxG9IX",
        "colab": {
          "base_uri": "https://localhost:8080/"
        },
        "outputId": "cbb88945-6278-4b15-fa6e-b820583b8bdb"
      },
      "source": [
        "# max, devuelve el elemento mayor de la lista\r\n",
        "\r\n",
        "print(max(numbers))\r\n",
        "print(max(letters))\r\n",
        "\r\n",
        "\r\n",
        "list_mix = [34, 'y', 9.6]\r\n",
        "#print(max(list_mix)) tiene diferente tipos de datos y solo va dar error\r\n"
      ],
      "execution_count": null,
      "outputs": [
        {
          "output_type": "stream",
          "text": [
            "50\n",
            "y\n"
          ],
          "name": "stdout"
        }
      ]
    },
    {
      "cell_type": "code",
      "metadata": {
        "id": "Gd0NBv5aHJUt",
        "colab": {
          "base_uri": "https://localhost:8080/"
        },
        "outputId": "c94d86ef-77b4-4e62-b12c-c4e292674ba8"
      },
      "source": [
        "# min, devuelve el elemento menor de la lista\r\n",
        "print(min(numbers))\r\n",
        "print(min(letters))"
      ],
      "execution_count": null,
      "outputs": [
        {
          "output_type": "stream",
          "text": [
            "2\n",
            "b\n"
          ],
          "name": "stdout"
        }
      ]
    },
    {
      "cell_type": "code",
      "metadata": {
        "id": "xAWsFr3DHqDI",
        "colab": {
          "base_uri": "https://localhost:8080/"
        },
        "outputId": "e3f81e74-9910-4987-8c98-2f2a120bed8b"
      },
      "source": [
        "# sorted, retorna una copia de la lista ordenada de menor a mayor\r\n",
        "\r\n",
        "print(sorted(numbers))\r\n",
        "print(numbers)"
      ],
      "execution_count": null,
      "outputs": [
        {
          "output_type": "stream",
          "text": [
            "[2, 3, 5, 34, 40, 50]\n",
            "[40, 50, 2, 3, 34, 5]\n"
          ],
          "name": "stdout"
        }
      ]
    },
    {
      "cell_type": "code",
      "metadata": {
        "id": "bVDgLZzMHwR5",
        "colab": {
          "base_uri": "https://localhost:8080/"
        },
        "outputId": "e272f0cc-35a8-408a-dd14-b878d4239ead"
      },
      "source": [
        "# join, metodo de string, puede tomar una lista de string y concatenar\r\n",
        "\r\n",
        "print(' - '.join(['Steven', 'Paul', 'Jhon']))\r\n",
        "print( ' & '.join(['Carol', 'Jose']))"
      ],
      "execution_count": 10,
      "outputs": [
        {
          "output_type": "stream",
          "text": [
            "Steven - Paul - Jhon\n",
            "Carol & Jose\n"
          ],
          "name": "stdout"
        }
      ]
    },
    {
      "cell_type": "code",
      "metadata": {
        "colab": {
          "base_uri": "https://localhost:8080/"
        },
        "id": "oX61Z_bEMSMB",
        "outputId": "03c7b702-f01e-422b-dff0-0df98d8ed3c2"
      },
      "source": [
        "# append, este elementos es util para añadir un elemento al final de la lista\r\n",
        "\r\n",
        "letters = ['a', 'b', 'g', 'f']\r\n",
        "letters.append ('m')\r\n",
        "letters.append (4)\r\n",
        "print(letters)\r\n",
        "\r\n",
        "# queremos agregar mas de un elemento a una lista\r\n",
        "# extend, agregar una lista como elementos de otros\r\n",
        "\r\n",
        "letters.extend(['n', 'h'])\r\n",
        "print(letters)\r\n",
        "\r\n",
        "# remove, remover un elemento de una lista\r\n",
        "\r\n",
        "letters.remove('a')\r\n",
        "print(letters)\r\n",
        "\r\n",
        "# pop, remover el elemento indicando la posicion\r\n",
        "\r\n",
        "letters.pop(-1)\r\n",
        "print(letters)\r\n"
      ],
      "execution_count": 19,
      "outputs": [
        {
          "output_type": "stream",
          "text": [
            "['a', 'b', 'g', 'f', 'm', 4]\n",
            "['a', 'b', 'g', 'f', 'm', 4, 'n', 'h']\n",
            "['b', 'g', 'f', 'm', 4, 'n', 'h']\n",
            "['b', 'g', 'f', 'm', 4, 'n']\n"
          ],
          "name": "stdout"
        }
      ]
    },
    {
      "cell_type": "markdown",
      "metadata": {
        "id": "lBIIJSIIOCEB"
      },
      "source": [
        "# Tuplas\r\n",
        " se usan para almacenar informacion relacionada que no va ser cambiada\r\n",
        " "
      ]
    },
    {
      "cell_type": "code",
      "metadata": {
        "id": "Bxa8TntYOOYX",
        "outputId": "3921a86e-5b38-4338-dfad-4929342cc2c6",
        "colab": {
          "base_uri": "https://localhost:8080/"
        }
      },
      "source": [
        "location_home =  (34.567, 56.890)\r\n",
        "print(location_home[0])\r\n",
        "#location_home[0] = 67.78\r\n",
        "\r\n",
        "dimensions = (45, 67, 90)\r\n",
        "# los valores de las tuplas pueden ser asignados a otras variables\r\n",
        "length, width, height = dimensions\r\n",
        "print('dimensions length : {} width: {} height: {}'.format(length, width, height))\r\n",
        "\r\n",
        "# cuando usar una tupla, cuando estemos seguro que los valores esten relacionados y no cambiarlos"
      ],
      "execution_count": 25,
      "outputs": [
        {
          "output_type": "stream",
          "text": [
            "34.567\n",
            "dimensions length : 45 width: 67 height: 90\n"
          ],
          "name": "stdout"
        }
      ]
    },
    {
      "cell_type": "markdown",
      "metadata": {
        "id": "yMJ5XyKUQLzR"
      },
      "source": [
        "# Sets\r\n",
        "Es una conexion de elementos unicos y que no estan ordenados, elementos unicos, los elementos duplicados de la lista van a ser eliminados.\r\n",
        "\r\n",
        "Se usara sets cuando querramos tener listas de elementos unicos.\r\n",
        "\r\n"
      ]
    },
    {
      "cell_type": "code",
      "metadata": {
        "id": "AkBs4UIUQKq-",
        "outputId": "ea7845af-70c3-48cf-933d-4d8edaec4c8a",
        "colab": {
          "base_uri": "https://localhost:8080/"
        }
      },
      "source": [
        "numbers = [4, 6, 8, 8, 9, 10, 10]\r\n",
        "unique_numbers = set (numbers)\r\n",
        "print (unique_numbers)\r\n",
        "\r\n",
        "\r\n",
        "fruits = {'plantano', 'apple', 'orange'}\r\n",
        "print ('mango' in fruits)\r\n",
        "\r\n",
        "fruits.add('mango')\r\n",
        "fruits.add('pera')\r\n",
        "print(fruits)\r\n",
        "\r\n",
        "\r\n",
        "fruits.pop() # elimina aleatoriamente el elemento\r\n",
        "print(fruits)"
      ],
      "execution_count": 33,
      "outputs": [
        {
          "output_type": "stream",
          "text": [
            "{4, 6, 8, 9, 10}\n",
            "False\n",
            "{'mango', 'orange', 'pera', 'plantano', 'apple'}\n",
            "{'orange', 'pera', 'plantano', 'apple'}\n"
          ],
          "name": "stdout"
        }
      ]
    }
  ]
}