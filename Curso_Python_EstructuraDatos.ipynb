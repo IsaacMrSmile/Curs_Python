{
  "nbformat": 4,
  "nbformat_minor": 0,
  "metadata": {
    "colab": {
      "name": "Curso_Python_EstructuraDatos.ipynb",
      "provenance": [],
      "include_colab_link": true
    },
    "kernelspec": {
      "name": "python3",
      "display_name": "Python 3"
    }
  },
  "cells": [
    {
      "cell_type": "markdown",
      "metadata": {
        "id": "view-in-github",
        "colab_type": "text"
      },
      "source": [
        "<a href=\"https://colab.research.google.com/github/IsaacMrSmile/Curs_Python/blob/main/Curso_Python_EstructuraDatos.ipynb\" target=\"_parent\"><img src=\"https://colab.research.google.com/assets/colab-badge.svg\" alt=\"Open In Colab\"/></a>"
      ]
    },
    {
      "cell_type": "markdown",
      "metadata": {
        "id": "G3ekW6BzgVvV"
      },
      "source": [
        "# Data Structures "
      ]
    },
    {
      "cell_type": "markdown",
      "metadata": {
        "id": "Gfm3HiXQgqAr"
      },
      "source": [
        "# Lits"
      ]
    },
    {
      "cell_type": "code",
      "metadata": {
        "colab": {
          "base_uri": "https://localhost:8080/"
        },
        "id": "fmc0eu5HgoKr",
        "outputId": "e129b956-fe4f-4140-da9d-aa209fed91c8"
      },
      "source": [
        "# list, acepta cualquier tipo de datos\r\n",
        "\r\n",
        "list_things = [60, 7.8, 'String', True ]\r\n",
        "print(list_things)\r\n",
        "print (list_things[1])\r\n",
        "print (list_things[-3])\r\n"
      ],
      "execution_count": 3,
      "outputs": [
        {
          "output_type": "stream",
          "text": [
            "[60, 7.8, 'String', True]\n",
            "7.8\n",
            "7.8\n"
          ],
          "name": "stdout"
        }
      ]
    },
    {
      "cell_type": "code",
      "metadata": {
        "id": "OZLXTbJhCEpg",
        "outputId": "a9641791-c2aa-4c77-fae5-c84514b042a1",
        "colab": {
          "base_uri": "https://localhost:8080/"
        }
      },
      "source": [
        "# Slicing, acceder a mas de un valor de una lista\r\n",
        "\r\n",
        "print(list_things[0:2]) # primer indice, primera posicion que se inicia, el indice dos no lo incluye porque es string, solo es un rango\r\n",
        "print(list_things[:2]) # todos los valors incluyendo desde el cero, solo se obvia\r\n",
        "print(list_things[1:])\r\n",
        "\r\n"
      ],
      "execution_count": 7,
      "outputs": [
        {
          "output_type": "stream",
          "text": [
            "[60, 7.8]\n",
            "[60, 7.8]\n",
            "[7.8, 'String', True]\n"
          ],
          "name": "stdout"
        }
      ]
    },
    {
      "cell_type": "code",
      "metadata": {
        "id": "pSU1IPe9C6No",
        "outputId": "f9097eff-4bd5-41e5-e756-d72993ad1adf",
        "colab": {
          "base_uri": "https://localhost:8080/"
        }
      },
      "source": [
        " # Operadores en una lista, not in , in\r\n",
        "\r\n",
        " list_numbers = [1,2,3,4,5]\r\n",
        " print(10 in list_numbers)\r\n",
        " print(2 not in list_numbers)"
      ],
      "execution_count": 15,
      "outputs": [
        {
          "output_type": "stream",
          "text": [
            "False\n",
            "False\n"
          ],
          "name": "stdout"
        }
      ]
    },
    {
      "cell_type": "code",
      "metadata": {
        "id": "mgHF-VYIFUap",
        "outputId": "f4e981e9-7e18-4af6-e7f7-1da3809ba991",
        "colab": {
          "base_uri": "https://localhost:8080/"
        }
      },
      "source": [
        "# Mutablity, si nosotros podemos cambir un objeto una vez que ha sido creado\r\n",
        "\r\n",
        "numbers =  [3,4,5,6]\r\n",
        "numbers[0] = 'tres'\r\n",
        "print(numbers)\r\n",
        "word = 'Hello there'\r\n",
        "# los strings  no son mutables"
      ],
      "execution_count": 26,
      "outputs": [
        {
          "output_type": "stream",
          "text": [
            "['tres', 4, 5, 6]\n"
          ],
          "name": "stdout"
        }
      ]
    },
    {
      "cell_type": "code",
      "metadata": {
        "id": "Q9_A_tz6FwGn",
        "outputId": "4599e3e5-4582-4ae5-8150-a5de56ed1118",
        "colab": {
          "base_uri": "https://localhost:8080/"
        }
      },
      "source": [
        "# Order, si la posicion de un elemento de la lista se puede usar para acceder a este elemento\r\n",
        "\r\n",
        "print (numbers[0])\r\n",
        "print (word[1])"
      ],
      "execution_count": 28,
      "outputs": [
        {
          "output_type": "stream",
          "text": [
            "tres\n",
            "e\n"
          ],
          "name": "stdout"
        }
      ]
    },
    {
      "cell_type": "markdown",
      "metadata": {
        "id": "p6FjneU_GgCF"
      },
      "source": [
        "## Funciones de Listas"
      ]
    },
    {
      "cell_type": "code",
      "metadata": {
        "id": "FKLkV2pCGajQ",
        "outputId": "5f7f53ec-9b97-47ad-f1bb-774d2f9d25ce",
        "colab": {
          "base_uri": "https://localhost:8080/"
        }
      },
      "source": [
        "# len, retorna la cantidad de elementos de una lista\r\n",
        "\r\n",
        "numbers = [40, 50, 2, 3, 34, 5]\r\n",
        "letters = ['b', 'y', 'u', 'i']\r\n",
        "\r\n",
        "print(len(numbers))\r\n",
        "print(len(letters))"
      ],
      "execution_count": 30,
      "outputs": [
        {
          "output_type": "stream",
          "text": [
            "6\n",
            "4\n"
          ],
          "name": "stdout"
        }
      ]
    },
    {
      "cell_type": "code",
      "metadata": {
        "id": "d3KYXyoxG9IX",
        "outputId": "cbb88945-6278-4b15-fa6e-b820583b8bdb",
        "colab": {
          "base_uri": "https://localhost:8080/"
        }
      },
      "source": [
        "# max, devuelve el elemento mayor de la lista\r\n",
        "\r\n",
        "print(max(numbers))\r\n",
        "print(max(letters))\r\n",
        "\r\n",
        "\r\n",
        "list_mix = [34, 'y', 9.6]\r\n",
        "#print(max(list_mix)) tiene diferente tipos de datos y solo va dar error\r\n"
      ],
      "execution_count": 35,
      "outputs": [
        {
          "output_type": "stream",
          "text": [
            "50\n",
            "y\n"
          ],
          "name": "stdout"
        }
      ]
    },
    {
      "cell_type": "code",
      "metadata": {
        "id": "Gd0NBv5aHJUt",
        "outputId": "c94d86ef-77b4-4e62-b12c-c4e292674ba8",
        "colab": {
          "base_uri": "https://localhost:8080/"
        }
      },
      "source": [
        "# min, devuelve el elemento menor de la lista\r\n",
        "print(min(numbers))\r\n",
        "print(min(letters))"
      ],
      "execution_count": 38,
      "outputs": [
        {
          "output_type": "stream",
          "text": [
            "2\n",
            "b\n"
          ],
          "name": "stdout"
        }
      ]
    },
    {
      "cell_type": "code",
      "metadata": {
        "id": "xAWsFr3DHqDI",
        "outputId": "e3f81e74-9910-4987-8c98-2f2a120bed8b",
        "colab": {
          "base_uri": "https://localhost:8080/"
        }
      },
      "source": [
        "# sorted, retorna una copia de la lista ordenada de menor a mayor\r\n",
        "\r\n",
        "print(sorted(numbers))\r\n",
        "print(numbers)"
      ],
      "execution_count": 42,
      "outputs": [
        {
          "output_type": "stream",
          "text": [
            "[2, 3, 5, 34, 40, 50]\n",
            "[40, 50, 2, 3, 34, 5]\n"
          ],
          "name": "stdout"
        }
      ]
    },
    {
      "cell_type": "code",
      "metadata": {
        "id": "bVDgLZzMHwR5"
      },
      "source": [
        ""
      ],
      "execution_count": null,
      "outputs": []
    }
  ]
}