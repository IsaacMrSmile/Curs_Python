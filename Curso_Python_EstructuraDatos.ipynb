{
  "nbformat": 4,
  "nbformat_minor": 0,
  "metadata": {
    "colab": {
      "name": "Curso_Python_EstructuraDatos.ipynb",
      "provenance": [],
      "authorship_tag": "ABX9TyOmc+XAuU3ihdZ1ATzSglR4",
      "include_colab_link": true
    },
    "kernelspec": {
      "name": "python3",
      "display_name": "Python 3"
    }
  },
  "cells": [
    {
      "cell_type": "markdown",
      "metadata": {
        "id": "view-in-github",
        "colab_type": "text"
      },
      "source": [
        "<a href=\"https://colab.research.google.com/github/IsaacMrSmile/Curs_Python/blob/main/Curso_Python_EstructuraDatos.ipynb\" target=\"_parent\"><img src=\"https://colab.research.google.com/assets/colab-badge.svg\" alt=\"Open In Colab\"/></a>"
      ]
    },
    {
      "cell_type": "markdown",
      "metadata": {
        "id": "G3ekW6BzgVvV"
      },
      "source": [
        "# Data Structures "
      ]
    },
    {
      "cell_type": "markdown",
      "metadata": {
        "id": "Gfm3HiXQgqAr"
      },
      "source": [
        "# Lits"
      ]
    },
    {
      "cell_type": "code",
      "metadata": {
        "colab": {
          "base_uri": "https://localhost:8080/"
        },
        "id": "fmc0eu5HgoKr",
        "outputId": "ebba0083-9669-466e-bf03-1b0a0872a9c5"
      },
      "source": [
        "# list, acepta cualquier tipo de datos\r\n",
        "\r\n",
        "list_things = [60, 7.8, 'String', True ]\r\n",
        "print(list_things)\r\n",
        "print (list_things[1])"
      ],
      "execution_count": 3,
      "outputs": [
        {
          "output_type": "stream",
          "text": [
            "[60, 7.8, 'String', True]\n",
            "7.8\n"
          ],
          "name": "stdout"
        }
      ]
    }
  ]
}