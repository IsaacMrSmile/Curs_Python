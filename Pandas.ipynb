{
  "nbformat": 4,
  "nbformat_minor": 0,
  "metadata": {
    "colab": {
      "name": "Pandas.ipynb",
      "private_outputs": true,
      "provenance": [],
      "authorship_tag": "ABX9TyPTleEtKiFUu707ti0O/PWo",
      "include_colab_link": true
    },
    "kernelspec": {
      "name": "python3",
      "display_name": "Python 3"
    }
  },
  "cells": [
    {
      "cell_type": "markdown",
      "metadata": {
        "id": "view-in-github",
        "colab_type": "text"
      },
      "source": [
        "<a href=\"https://colab.research.google.com/github/IsaacMrSmile/Curs_Python/blob/main/Pandas.ipynb\" target=\"_parent\"><img src=\"https://colab.research.google.com/assets/colab-badge.svg\" alt=\"Open In Colab\"/></a>"
      ]
    },
    {
      "cell_type": "markdown",
      "metadata": {
        "id": "ASukA9Hvohb_"
      },
      "source": [
        "# Panda\r\n",
        "\r\n",
        "# -Series"
      ]
    },
    {
      "cell_type": "code",
      "metadata": {
        "id": "wZBg-H1QT04k"
      },
      "source": [
        "import pandas as pd"
      ],
      "execution_count": null,
      "outputs": []
    },
    {
      "cell_type": "code",
      "metadata": {
        "id": "LGoLg4zoo3c8"
      },
      "source": [
        "students = pd.Series(data = ['Luis', 'USA', 40], index = ['name', 'country', 'age']) # data = valores, Indices = valores donde se coloracara la data\r\n",
        "students\r\n"
      ],
      "execution_count": null,
      "outputs": []
    },
    {
      "cell_type": "code",
      "metadata": {
        "id": "Dpx0ErEIrJ9N"
      },
      "source": [
        "print(students.shape) # dimensiones\r\n",
        "print(students.ndim) # cantidad de dimensiones\r\n",
        "print(students.size) # cantidad de valores"
      ],
      "execution_count": null,
      "outputs": []
    },
    {
      "cell_type": "code",
      "metadata": {
        "id": "SvSWvHFbrV77"
      },
      "source": [
        "print(students.values) # los valores\r\n",
        "print(students.index) # los indices\r\n",
        "print('company' in students) # buscar el valor en la lista"
      ],
      "execution_count": null,
      "outputs": []
    },
    {
      "cell_type": "markdown",
      "metadata": {
        "id": "_vtNWiH4s_DS"
      },
      "source": [
        "# Acceder y eliminar elementos en Series"
      ]
    },
    {
      "cell_type": "code",
      "metadata": {
        "id": "8kJoD8T7s9hX"
      },
      "source": [
        "import pandas as pd\r\n",
        "\r\n",
        "students = pd.Series(data = ['Luis', 'USA', 40], index = ['name', 'country', 'age'])\r\n",
        "students"
      ],
      "execution_count": null,
      "outputs": []
    },
    {
      "cell_type": "code",
      "metadata": {
        "id": "25ksRHwwu8iV"
      },
      "source": [
        "# como podemos acceder a estos elementos\r\n",
        "\r\n",
        "print(students['name'])\r\n",
        "\r\n"
      ],
      "execution_count": null,
      "outputs": []
    },
    {
      "cell_type": "code",
      "metadata": {
        "id": "o7T7y3gKvD4Z"
      },
      "source": [
        "print(students[['name', 'age']])"
      ],
      "execution_count": null,
      "outputs": []
    },
    {
      "cell_type": "code",
      "metadata": {
        "id": "Db8pO9l9vcZk"
      },
      "source": [
        "print(students[1])"
      ],
      "execution_count": null,
      "outputs": []
    },
    {
      "cell_type": "code",
      "metadata": {
        "id": "8R-slo-8vfNt"
      },
      "source": [
        "print(students[[0,1]])"
      ],
      "execution_count": null,
      "outputs": []
    },
    {
      "cell_type": "code",
      "metadata": {
        "id": "T-bwmJ33vo90"
      },
      "source": [
        "print(students[-1])"
      ],
      "execution_count": null,
      "outputs": []
    },
    {
      "cell_type": "code",
      "metadata": {
        "id": "CjbDMU8Zvup-"
      },
      "source": [
        "print(students.loc['country'])\r\n",
        "print(students.loc['name'])"
      ],
      "execution_count": null,
      "outputs": []
    },
    {
      "cell_type": "code",
      "metadata": {
        "id": "-X_hmvtkv6lv"
      },
      "source": [
        "print(students.iloc[0]) #para colocar la posion de los elementos"
      ],
      "execution_count": null,
      "outputs": []
    },
    {
      "cell_type": "code",
      "metadata": {
        "id": "Lh4MQxEBwFtO"
      },
      "source": [
        "# eliminamos elementos de una celda\r\n",
        "\r\n",
        "students.drop('age', inplace=True ) # pero con drop no modifica la seria original,\r\n",
        "#pero colocamos true el valor se eliminaria de la lista original\r\n",
        "print(students)"
      ],
      "execution_count": null,
      "outputs": []
    },
    {
      "cell_type": "markdown",
      "metadata": {
        "id": "fwpDGP3BzIjz"
      },
      "source": [
        "# Operaciones Aritmeticas en Series\r\n"
      ]
    },
    {
      "cell_type": "code",
      "metadata": {
        "id": "J-anWotTzKrW"
      },
      "source": [
        "import pandas as pd\r\n"
      ],
      "execution_count": null,
      "outputs": []
    },
    {
      "cell_type": "code",
      "metadata": {
        "id": "2RmZUnxhzNKD"
      },
      "source": [
        "fruits =  pd.Series( data = [20, 40, 60], index  = ['mango', 'apple', 'banana'])\r\n",
        "fruits\r\n"
      ],
      "execution_count": null,
      "outputs": []
    },
    {
      "cell_type": "code",
      "metadata": {
        "id": "6LpJY65P2OMI"
      },
      "source": [
        "print( fruits + 3)"
      ],
      "execution_count": null,
      "outputs": []
    },
    {
      "cell_type": "code",
      "metadata": {
        "id": "INMThRqu2R68"
      },
      "source": [
        "print(fruits - 4)"
      ],
      "execution_count": null,
      "outputs": []
    },
    {
      "cell_type": "code",
      "metadata": {
        "id": "9Y8ulxi22WIs"
      },
      "source": [
        "print(fruits * 2)"
      ],
      "execution_count": null,
      "outputs": []
    },
    {
      "cell_type": "code",
      "metadata": {
        "id": "NDsp31202Z8Z"
      },
      "source": [
        "print(fruits / 10)"
      ],
      "execution_count": null,
      "outputs": []
    },
    {
      "cell_type": "code",
      "metadata": {
        "id": "khVJ_uhL2chf"
      },
      "source": [
        "#\r\n",
        "\r\n",
        "import numpy as np\r\n"
      ],
      "execution_count": null,
      "outputs": []
    },
    {
      "cell_type": "code",
      "metadata": {
        "id": "Sv2zRo932jMx"
      },
      "source": [
        "print(np.sqrt(fruits))"
      ],
      "execution_count": null,
      "outputs": []
    },
    {
      "cell_type": "code",
      "metadata": {
        "id": "JcVSmFUv3BrV"
      },
      "source": [
        "print(np.exp(fruits)) # e elevada a cada valor\r\n"
      ],
      "execution_count": null,
      "outputs": []
    },
    {
      "cell_type": "code",
      "metadata": {
        "id": "Cd-C--De3KY5"
      },
      "source": [
        "print(np.power(fruits, 2))"
      ],
      "execution_count": null,
      "outputs": []
    },
    {
      "cell_type": "code",
      "metadata": {
        "id": "IEUitPJQ3O5q"
      },
      "source": [
        "print(fruits['mango'] + 3)\r\n"
      ],
      "execution_count": null,
      "outputs": []
    },
    {
      "cell_type": "code",
      "metadata": {
        "id": "q8wivumM3VTg"
      },
      "source": [
        "print(fruits[['banana', 'apple']]*10)"
      ],
      "execution_count": null,
      "outputs": []
    },
    {
      "cell_type": "code",
      "metadata": {
        "id": "vM74MMJV4ufI"
      },
      "source": [
        "print(fruits.loc['apple'] / 10)"
      ],
      "execution_count": null,
      "outputs": []
    },
    {
      "cell_type": "markdown",
      "metadata": {
        "id": "rYYDnFrm5Al_"
      },
      "source": [
        "# DataFrame\r\n",
        "Objeto de 2 dimensiones con filas y columnas etiquetadas\r\n"
      ]
    },
    {
      "cell_type": "markdown",
      "metadata": {
        "id": "iQ0ANeqC5PSL"
      },
      "source": [
        "### -Manualmente a partir de un diccionario"
      ]
    },
    {
      "cell_type": "code",
      "metadata": {
        "id": "f_R4AdkP5Ci_"
      },
      "source": [
        "import pandas as pd"
      ],
      "execution_count": null,
      "outputs": []
    },
    {
      "cell_type": "code",
      "metadata": {
        "id": "ANnuo4Gc5cGA"
      },
      "source": [
        "items = {'Paul': [10, 20, 30], 'Mary': [40, 50, 60]} # estos valores son ayadidos como columnas\r\n",
        "df = pd.DataFrame(items)\r\n",
        "df"
      ],
      "execution_count": null,
      "outputs": []
    },
    {
      "cell_type": "code",
      "metadata": {
        "id": "WNWmfLpv52i4"
      },
      "source": [
        "# agregar nombres a las filas\r\n",
        "\r\n",
        "items = {'Paul': pd.Series([10, 20, 30], ['apple', 'banana', 'mango']), 'Mary': pd.Series([40, 50, 60], ['apple', 'orange', 'mango'])}\r\n",
        "df = pd.DataFrame(items)\r\n",
        "df"
      ],
      "execution_count": null,
      "outputs": []
    },
    {
      "cell_type": "code",
      "metadata": {
        "id": "KGaZNFJk6noD"
      },
      "source": [
        "df.index"
      ],
      "execution_count": null,
      "outputs": []
    },
    {
      "cell_type": "code",
      "metadata": {
        "id": "uR01wujn61SD"
      },
      "source": [
        "df.values"
      ],
      "execution_count": null,
      "outputs": []
    },
    {
      "cell_type": "code",
      "metadata": {
        "id": "h3zJXCR_62Yu"
      },
      "source": [
        "df.columns # se usa para analisar los datos"
      ],
      "execution_count": null,
      "outputs": []
    },
    {
      "cell_type": "code",
      "metadata": {
        "id": "jzMGCk5f67dn"
      },
      "source": [
        "df.shape # filas y columnas"
      ],
      "execution_count": null,
      "outputs": []
    },
    {
      "cell_type": "code",
      "metadata": {
        "id": "wJmAWnnK6_Dc"
      },
      "source": [
        "# obtener solo un data frame de una sola columna\r\n",
        "\r\n",
        "df = pd.DataFrame(items, columns = ['Paul'])\r\n",
        "df"
      ],
      "execution_count": null,
      "outputs": []
    },
    {
      "cell_type": "code",
      "metadata": {
        "id": "YS7Tpdny7DC9"
      },
      "source": [
        "df = pd.DataFrame(items, columns = ['Paul'], index=['apple', 'banana']) # solo quiero mostrar apple y banana\r\n",
        "df"
      ],
      "execution_count": null,
      "outputs": []
    },
    {
      "cell_type": "markdown",
      "metadata": {
        "id": "JBsZApKF7e-f"
      },
      "source": [
        "### Creando cargando un archivo (cvs)"
      ]
    },
    {
      "cell_type": "code",
      "metadata": {
        "id": "GWUt04uj7i5A"
      },
      "source": [
        "# csv\r\n",
        "import pandas as pd\r\n"
      ],
      "execution_count": null,
      "outputs": []
    },
    {
      "cell_type": "code",
      "metadata": {
        "id": "LRTbw0Eb7wBd"
      },
      "source": [
        "#df = pd.read_csv('data_fifa.csv')\r\n",
        "\r\n",
        "from google.colab import csv\r\n",
        "uploaded = file.upload()"
      ],
      "execution_count": null,
      "outputs": []
    }
  ]
}