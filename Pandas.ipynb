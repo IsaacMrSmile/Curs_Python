{
  "nbformat": 4,
  "nbformat_minor": 0,
  "metadata": {
    "colab": {
      "name": "Pandas.ipynb",
      "private_outputs": true,
      "provenance": [],
      "authorship_tag": "ABX9TyPRFko6JDOS+6y3IT4TCw13",
      "include_colab_link": true
    },
    "kernelspec": {
      "name": "python3",
      "display_name": "Python 3"
    }
  },
  "cells": [
    {
      "cell_type": "markdown",
      "metadata": {
        "id": "view-in-github",
        "colab_type": "text"
      },
      "source": [
        "<a href=\"https://colab.research.google.com/github/IsaacMrSmile/Curs_Python/blob/main/Pandas.ipynb\" target=\"_parent\"><img src=\"https://colab.research.google.com/assets/colab-badge.svg\" alt=\"Open In Colab\"/></a>"
      ]
    },
    {
      "cell_type": "markdown",
      "metadata": {
        "id": "ASukA9Hvohb_"
      },
      "source": [
        "# Panda\r\n",
        "\r\n",
        "# -Series"
      ]
    },
    {
      "cell_type": "code",
      "metadata": {
        "id": "wZBg-H1QT04k"
      },
      "source": [
        "import pandas as pd"
      ],
      "execution_count": null,
      "outputs": []
    },
    {
      "cell_type": "code",
      "metadata": {
        "id": "LGoLg4zoo3c8"
      },
      "source": [
        "students = pd.Series(data = ['Luis', 'USA', 40], index = ['name', 'country', 'age']) # data = valores, Indices = valores donde se coloracara la data\r\n",
        "students\r\n"
      ],
      "execution_count": null,
      "outputs": []
    }
  ]
}