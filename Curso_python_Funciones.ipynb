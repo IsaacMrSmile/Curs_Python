{
  "nbformat": 4,
  "nbformat_minor": 0,
  "metadata": {
    "colab": {
      "name": "Curso_python_Funciones.ipynb",
      "private_outputs": true,
      "provenance": [],
      "authorship_tag": "ABX9TyNU7HlxgWUNoaKMdBjLV9pw",
      "include_colab_link": true
    },
    "kernelspec": {
      "name": "python3",
      "display_name": "Python 3"
    }
  },
  "cells": [
    {
      "cell_type": "markdown",
      "metadata": {
        "id": "view-in-github",
        "colab_type": "text"
      },
      "source": [
        "<a href=\"https://colab.research.google.com/github/IsaacMrSmile/Curs_Python/blob/main/Curso_python_Funciones.ipynb\" target=\"_parent\"><img src=\"https://colab.research.google.com/assets/colab-badge.svg\" alt=\"Open In Colab\"/></a>"
      ]
    },
    {
      "cell_type": "markdown",
      "metadata": {
        "id": "S48RJe7Szvxp"
      },
      "source": [
        "# Funciones\r\n",
        "\r\n",
        "Crearemos nuestras propias funciones"
      ]
    },
    {
      "cell_type": "code",
      "metadata": {
        "id": "jnxtoPOszp5M"
      },
      "source": [
        "def greetings():\r\n",
        "    print('Hello')\r\n",
        "\r\n",
        "greetings()\r\n"
      ],
      "execution_count": null,
      "outputs": []
    },
    {
      "cell_type": "code",
      "metadata": {
        "id": "zihubarJ0N-4"
      },
      "source": [
        "def square_area(lado):\r\n",
        "    return lado**2\r\n",
        "\r\n",
        "square_area(10)\r\n",
        "\r\n",
        "def circle_area(radio):\r\n",
        "    pi = 3.1416\r\n",
        "    return pi*radio**2\r\n",
        "\r\n",
        "circle_area(4)"
      ],
      "execution_count": null,
      "outputs": []
    },
    {
      "cell_type": "code",
      "metadata": {
        "id": "AdUre4Cm1Seh"
      },
      "source": [
        "def square_area(lado = 5): # valor por defecto que se pone en el argumento\r\n",
        "    return lado**2\r\n",
        "\r\n",
        "square_area()"
      ],
      "execution_count": null,
      "outputs": []
    },
    {
      "cell_type": "markdown",
      "metadata": {
        "id": "1eVoB0ye1jjZ"
      },
      "source": [
        "# Lambda Functions\r\n",
        "\r\n"
      ]
    },
    {
      "cell_type": "code",
      "metadata": {
        "id": "GlbJszdl1i4N"
      },
      "source": [
        ""
      ],
      "execution_count": null,
      "outputs": []
    }
  ]
}