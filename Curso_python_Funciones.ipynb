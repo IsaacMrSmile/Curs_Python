{
  "nbformat": 4,
  "nbformat_minor": 0,
  "metadata": {
    "colab": {
      "name": "Curso_python_Funciones.ipynb",
      "private_outputs": true,
      "provenance": [],
      "authorship_tag": "ABX9TyM1SEVtumBr/0xTiJno3hk3",
      "include_colab_link": true
    },
    "kernelspec": {
      "name": "python3",
      "display_name": "Python 3"
    }
  },
  "cells": [
    {
      "cell_type": "markdown",
      "metadata": {
        "id": "view-in-github",
        "colab_type": "text"
      },
      "source": [
        "<a href=\"https://colab.research.google.com/github/IsaacMrSmile/Curs_Python/blob/main/Curso_python_Funciones.ipynb\" target=\"_parent\"><img src=\"https://colab.research.google.com/assets/colab-badge.svg\" alt=\"Open In Colab\"/></a>"
      ]
    },
    {
      "cell_type": "markdown",
      "metadata": {
        "id": "S48RJe7Szvxp"
      },
      "source": [
        "# Funciones\r\n",
        "\r\n",
        "Crearemos nuestras propias funciones"
      ]
    },
    {
      "cell_type": "code",
      "metadata": {
        "id": "jnxtoPOszp5M"
      },
      "source": [
        "def greetings():\r\n",
        "    print('Hello')\r\n",
        "\r\n",
        "greetings()\r\n"
      ],
      "execution_count": null,
      "outputs": []
    },
    {
      "cell_type": "code",
      "metadata": {
        "id": "zihubarJ0N-4"
      },
      "source": [
        "def square_area(lado):\r\n",
        "    return lado**2\r\n",
        "\r\n",
        "square_area(10)\r\n",
        "\r\n",
        "def circle_area(radio):\r\n",
        "    pi = 3.1416\r\n",
        "    return pi*radio**2\r\n",
        "\r\n",
        "circle_area(4)"
      ],
      "execution_count": null,
      "outputs": []
    },
    {
      "cell_type": "code",
      "metadata": {
        "id": "AdUre4Cm1Seh"
      },
      "source": [
        "def square_area(lado = 5): # valor por defecto que se pone en el argumento\r\n",
        "    return lado**2\r\n",
        "\r\n",
        "square_area()"
      ],
      "execution_count": null,
      "outputs": []
    },
    {
      "cell_type": "markdown",
      "metadata": {
        "id": "1eVoB0ye1jjZ"
      },
      "source": [
        "# Lambda Functions\r\n",
        "\r\n",
        "Son aquellas que no tienen nombre, pero son utiles a la hora de escribir funciones muy cortas y complejas"
      ]
    },
    {
      "cell_type": "code",
      "metadata": {
        "id": "GlbJszdl1i4N"
      },
      "source": [
        "def multiply(x):\r\n",
        "    return x*5\r\n",
        "\r\n",
        "multiply(3)"
      ],
      "execution_count": null,
      "outputs": []
    },
    {
      "cell_type": "code",
      "metadata": {
        "id": "onK0sQPhP2xa"
      },
      "source": [
        "# la funcion lambda es escribir toda la funcion de manera mas corta\r\n",
        "multiply_lambda = lambda x: x*5 # toda funcion lambda debemos almacenarla en una variable\r\n",
        "multiply_lambda(3)\r\n",
        "\r\n",
        "# lambda una forma muy util de crear funciones de manera mucho mas corta\r\n",
        "\r\n"
      ],
      "execution_count": null,
      "outputs": []
    },
    {
      "cell_type": "code",
      "metadata": {
        "id": "wMJC0m9xQa3M"
      },
      "source": [
        "divisible = lambda x,y: % y == 0\r\n",
        "divisible(32, 5)"
      ],
      "execution_count": null,
      "outputs": []
    },
    {
      "cell_type": "code",
      "metadata": {
        "id": "A90fHbgQRFMz"
      },
      "source": [
        "# Otras funciones de python\r\n",
        "\r\n",
        "# filter, evaluar de toda la lista una condicion y luego retorna los elementos que cumplan esa condicion\r\n",
        "\r\n",
        "numbers = [4, 6, 9, 2]\r\n",
        "\r\n",
        "def multiple_dos(x):\r\n",
        "    return x % 2 == 0 # el numero es multipe de dos si el residuo es \"0\"\r\n",
        "\r\n",
        "list(filter(multiple_dos, numbers)) # filter (funcion, lista), siempre asignar una lista para ver los resultados\r\n",
        "\r\n",
        "\r\n",
        "# usando lambda\r\n",
        "\r\n",
        "list(filter(lambda x : x % 2 == 0, numbers)) # lambda es la funcion mas corta, el argumento y la condicion, la lista de numeros"
      ],
      "execution_count": null,
      "outputs": []
    },
    {
      "cell_type": "code",
      "metadata": {
        "id": "t0sU44BOUZFv"
      },
      "source": [
        "# map, evalua uno a uno los elementos y retornan un objeto para cada posicion de ellos\r\n",
        "\r\n",
        "numbers = [4, 6, 9, 2]\r\n",
        "\r\n",
        "def multiple_dos(x):\r\n",
        "    return x % 2 == 0\r\n",
        "\r\n",
        "list(map(multiple_dos, numbers)) # map(funcion, la lista que queremos evaluar)\r\n",
        "# nos da el resultado de la evaluacion de cada elemento, a tomado cada uno de los elementos y no da el resultado de cada uno.\r\n",
        "\r\n",
        "list (map(lambda x: x % 2 == 0, numbers)) # nos da el mis resultado\r\n",
        "\r\n"
      ],
      "execution_count": null,
      "outputs": []
    },
    {
      "cell_type": "code",
      "metadata": {
        "id": "P15f2yYgWS-7"
      },
      "source": [
        "things = ['Mary', 'food', 'laptop', 'Jose']\r\n",
        "\r\n",
        "#filter\r\n",
        "names = list(filter(lambda x: x[0].isupper(), things)) \r\n",
        "\r\n",
        "#isupper(), funcion de elvaluar si la letra es mayuscula\r\n",
        "\r\n",
        "print(names)\r\n",
        "\r\n",
        "# map\r\n",
        "\r\n",
        "check_name = list(map(lambda x: x[0].isupper(), things))\r\n",
        "print(check_name) # map evalua todos lo elementos de acuerdo a la condicion y no quita ningun elemento"
      ],
      "execution_count": null,
      "outputs": []
    },
    {
      "cell_type": "code",
      "metadata": {
        "id": "ZKEnnyJbWlB3"
      },
      "source": [
        "test = 'Steven' # recordando, para obtener caracteres de un string\r\n",
        "print(test[0])"
      ],
      "execution_count": null,
      "outputs": []
    }
  ]
}