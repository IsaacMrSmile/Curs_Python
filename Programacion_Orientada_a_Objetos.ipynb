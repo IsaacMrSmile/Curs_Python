{
  "nbformat": 4,
  "nbformat_minor": 0,
  "metadata": {
    "colab": {
      "name": "Programacion Orientada a Objetos.ipynb",
      "private_outputs": true,
      "provenance": [],
      "authorship_tag": "ABX9TyNQKv4QPyX9IBwErj7mYoo/",
      "include_colab_link": true
    },
    "kernelspec": {
      "name": "python3",
      "display_name": "Python 3"
    }
  },
  "cells": [
    {
      "cell_type": "markdown",
      "metadata": {
        "id": "view-in-github",
        "colab_type": "text"
      },
      "source": [
        "<a href=\"https://colab.research.google.com/github/IsaacMrSmile/Curs_Python/blob/main/Programacion_Orientada_a_Objetos.ipynb\" target=\"_parent\"><img src=\"https://colab.research.google.com/assets/colab-badge.svg\" alt=\"Open In Colab\"/></a>"
      ]
    },
    {
      "cell_type": "markdown",
      "metadata": {
        "id": "jN45cZNjY_WA"
      },
      "source": [
        "# Object-Oriented Programming\r\n",
        "\r\n",
        " * Class:  una forma de empaquetar atributos o metodos (estudiantes, profesiones)\r\n",
        "\r\n",
        "* Object: Es una instancia de una clase ( class: animales , object : perro)\r\n",
        "\r\n",
        "* Attribute: Son descripciones de una caracteristicas ( color, raza, edad)\r\n",
        "\r\n",
        "* Method: son acciones de un objeto o clase pueden usar ( correr, ladrar)"
      ]
    },
    {
      "cell_type": "code",
      "metadata": {
        "id": "7HwYjlLBYr1y"
      },
      "source": [
        "class Worker: # definiendo class\r\n",
        "    def __init__(self, name, age): # definimos \"def\"  un constructor para crear el objeto de esta clase (iniciador en python es \"__init__\")\r\n",
        "# llamamos a la misma clase con la palabra \"self\", en toda funcion,  __init__(self, argumento, argumento2 )\r\n",
        "        self.name = name # atributos de la misma clase, son los parametros, se refiere a una de las instacian de las clases que tiene como parametro\r\n",
        "        self.age =  age # parametro de la clase\r\n",
        "    \r\n",
        "    # setters\r\n",
        "    # \"self\" es la invocacion de la clase, un objeto mas que hace referencia a esta clase\r\n",
        "    def set_salary(self, salary): # set, no retornar un valor solo actualizan un atributo dentro de la clase\r\n",
        "        self.salary = salary\r\n",
        "\r\n",
        "    # getters, retornar un valor\r\n",
        "\r\n",
        "    def get_net_salary(self):\r\n",
        "        return 0.9 * self.salary   "
      ],
      "execution_count": null,
      "outputs": []
    },
    {
      "cell_type": "code",
      "metadata": {
        "id": "ZcnKjpr0bE7f"
      },
      "source": [
        "# creando una objeto\r\n",
        "\r\n",
        "worker_one = Worker('Juan', 40) # ingreso de parametros\r\n",
        "# print (worker_one, retorna un objeto\r\n",
        "\r\n",
        "print(worker_one.name) # para ver los valores que tiene la instancia worker_one\r\n",
        "print(worker_one.age)\r\n",
        "\r\n",
        "worker_one.set_salary(400) # agregando el salario\r\n",
        "print(worker_one.salary)\r\n",
        "print(worker_one.get_net_salary())"
      ],
      "execution_count": null,
      "outputs": []
    },
    {
      "cell_type": "code",
      "metadata": {
        "id": "4Rfs9ji6lBA9"
      },
      "source": [
        "# modificar los atributos de una class\r\n",
        "#worker_one\r\n",
        "\r\n",
        "worker_one.name ='Jose' # llamo a la instancia y accedo a su atributo y defino el nuevo valor\r\n",
        "print(worker_one.name)\r\n",
        "\r\n",
        "worker_one.age = 35\r\n",
        "print(worker_one.age)\r\n"
      ],
      "execution_count": null,
      "outputs": []
    },
    {
      "cell_type": "markdown",
      "metadata": {
        "id": "9f7qnnGysHCG"
      },
      "source": [
        "# Herencia\r\n",
        "\r\n",
        "Vendria a ser crear clases nuevas a partir de crear clases existentes\r\n"
      ]
    },
    {
      "cell_type": "code",
      "metadata": {
        "id": "5jD70Zi2sC91"
      },
      "source": [
        "class Worker: # definiendo class\r\n",
        "    def __init__(self, name, age): # definimos \"def\"  un constructor para crear el objeto de esta clase (iniciador en python es \"__init__\")\r\n",
        "# llamamos a la misma clase con la palabra \"self\", en toda funcion,  __init__(self, argumento, argumento2 )\r\n",
        "        self.name = name # atributos de la misma clase, son los parametros, se refiere a una de las instacian de las clases que tiene como parametro\r\n",
        "        self.age =  age # parametro de la clase\r\n",
        "    \r\n",
        "    # setters\r\n",
        "    # \"self\" es la invocacion de la clase, un objeto mas que hace referencia a esta clase\r\n",
        "    def set_salary(self, salary): # set, no retornar un valor solo actualizan un atributo dentro de la clase\r\n",
        "        self.salary = salary\r\n",
        "\r\n",
        "    # getters, retornar un valor\r\n",
        "\r\n",
        "    def get_net_salary(self):\r\n",
        "        return 0.9 * self.salary  "
      ],
      "execution_count": null,
      "outputs": []
    },
    {
      "cell_type": "code",
      "metadata": {
        "id": "Q4qLK1xFsV7w"
      },
      "source": [
        "class Doctor (Worker): # creando clase hija\r\n",
        "    def __init__(self, name, age, especialidad):\r\n",
        "        Worker.__init__(self, name, age) # consultor de Worker, no se pasa especialidad.\r\n",
        "        self.especialidad = especialidad # agregamos otra factor\r\n",
        "\r\n",
        "    def schudele_operation(self): # hereda los metodos que tiene esta clase\r\n",
        "    # se agrega el horario del doctor de acuerdo a la espacialidad\r\n",
        "        if self.especialidad == 'cardiologo': \r\n",
        "            return '8 am'\r\n",
        "        elif self.especialidad == 'neurologo':\r\n",
        "                return '4 pm'\r\n",
        "        else:\r\n",
        "            return '12 pm'\r\n",
        "\r\n",
        "# modificamos el salario neto, para retornar un salario de acuerdo a la especialidad\r\n",
        "\r\n",
        "    def get_net_salary(self): \r\n",
        "        Worker.set_salary(self, 1000) # creamos el atributo salario, invocando la clase padre y refenciamos en la clase hija donde agregamos un salario base\r\n",
        "\r\n",
        "        if self.especialidad == 'cardiologo':\r\n",
        "            return  1.5 * self.salary\r\n",
        "        elif self.especialidad == 'neurologo':\r\n",
        "                return self*salary*2\r\n",
        "        else:\r\n",
        "            return self.salary\r\n"
      ],
      "execution_count": null,
      "outputs": []
    },
    {
      "cell_type": "code",
      "metadata": {
        "id": "xfFkDBskzVYY"
      },
      "source": [
        "doctor = Doctor('Luis', 45, 'cardiologo')\r\n",
        "print(doctor.age)\r\n",
        "\r\n",
        "print(doctor.schudele_operation())\r\n",
        "print(doctor.get_net_salary())"
      ],
      "execution_count": null,
      "outputs": []
    }
  ]
}