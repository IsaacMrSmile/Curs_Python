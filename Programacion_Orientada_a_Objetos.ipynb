{
  "nbformat": 4,
  "nbformat_minor": 0,
  "metadata": {
    "colab": {
      "name": "Programacion Orientada a Objetos.ipynb",
      "private_outputs": true,
      "provenance": [],
      "authorship_tag": "ABX9TyN6AMwnXYgY5zRFv2w51dLE",
      "include_colab_link": true
    },
    "kernelspec": {
      "name": "python3",
      "display_name": "Python 3"
    }
  },
  "cells": [
    {
      "cell_type": "markdown",
      "metadata": {
        "id": "view-in-github",
        "colab_type": "text"
      },
      "source": [
        "<a href=\"https://colab.research.google.com/github/IsaacMrSmile/Curs_Python/blob/main/Programacion_Orientada_a_Objetos.ipynb\" target=\"_parent\"><img src=\"https://colab.research.google.com/assets/colab-badge.svg\" alt=\"Open In Colab\"/></a>"
      ]
    },
    {
      "cell_type": "markdown",
      "metadata": {
        "id": "jN45cZNjY_WA"
      },
      "source": [
        "# Object-Oriented Programming\r\n",
        "\r\n",
        " * Class:  una forma de empaquetar atributos o metodos (estudiantes, profesiones)\r\n",
        "\r\n",
        "* Object: Es una instancia de una clase ( class: animales , object : perro)\r\n",
        "\r\n",
        "* Attribute: Son descripciones de una caracteristicas ( color, raza, edad)\r\n",
        "\r\n",
        "* Method: son acciones de un objeto o clase pueden usar ( correr, ladrar)"
      ]
    },
    {
      "cell_type": "code",
      "metadata": {
        "id": "7HwYjlLBYr1y"
      },
      "source": [
        "class Worker: # definiendo class\r\n",
        "    def __init__(self, name, age): # definimos \"def\"  un constructor para crear el objeto de esta clase (iniciador en python es \"__init__\")\r\n",
        "# llamamos a la misma clase con la palabra \"self\", en toda funcion,  __init__(self, argumento, argumento2 )\r\n",
        "        self.name = name # atributos de la misma clase, son los parametros, se refiere a una de las instacian de las clases que tiene como parametro\r\n",
        "        self.age =  age # parametro de la clase\r\n",
        "    \r\n",
        "    # setters\r\n",
        "    # \"self\" es la invocacion de la clase, un objeto mas que hace referencia a esta clase\r\n",
        "    def set_salary(self, salary): # set, no retornar un valor solo actualizan un atributo dentro de la clase\r\n",
        "        self.salary = salary\r\n",
        "\r\n",
        "    # getters, retornar un valor\r\n",
        "\r\n",
        "    def get_net_salary(self):\r\n",
        "        return 0.9 * self.salary   "
      ],
      "execution_count": null,
      "outputs": []
    },
    {
      "cell_type": "code",
      "metadata": {
        "id": "ZcnKjpr0bE7f"
      },
      "source": [
        "# creando una objeto\r\n",
        "\r\n",
        "worker_one = Worker('Juan', 40) # ingreso de parametros\r\n",
        "# print (worker_one, retorna un objeto\r\n",
        "\r\n",
        "print(worker_one.name) # para ver los valores que tiene la instancia worker_one\r\n",
        "print(worker_one.age)\r\n",
        "\r\n",
        "worker_one.set_salary(400) # agregando el salario\r\n",
        "print(worker_one.salary)\r\n",
        "print(worker_one.get_net_salary())"
      ],
      "execution_count": null,
      "outputs": []
    },
    {
      "cell_type": "code",
      "metadata": {
        "id": "4Rfs9ji6lBA9"
      },
      "source": [
        "# modificar los atributos de una class\r\n",
        "#worker_one\r\n",
        "\r\n",
        "worker_one.name ='Jose' # llamo a la instancia y accedo a su atributo y defino el nuevo valor\r\n",
        "print(worker_one.name)\r\n",
        "\r\n",
        "worker_one.age = 35\r\n",
        "print(worker_one.age)\r\n",
        "\r\n"
      ],
      "execution_count": null,
      "outputs": []
    }
  ]
}