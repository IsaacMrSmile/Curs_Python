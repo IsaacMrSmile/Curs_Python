{
  "nbformat": 4,
  "nbformat_minor": 0,
  "metadata": {
    "colab": {
      "name": "Programacion Orientada a Objetos.ipynb",
      "private_outputs": true,
      "provenance": [],
      "authorship_tag": "ABX9TyM9osHuqRRxmLjxu5ilYpGV",
      "include_colab_link": true
    },
    "kernelspec": {
      "name": "python3",
      "display_name": "Python 3"
    }
  },
  "cells": [
    {
      "cell_type": "markdown",
      "metadata": {
        "id": "view-in-github",
        "colab_type": "text"
      },
      "source": [
        "<a href=\"https://colab.research.google.com/github/IsaacMrSmile/Curs_Python/blob/main/Programacion_Orientada_a_Objetos.ipynb\" target=\"_parent\"><img src=\"https://colab.research.google.com/assets/colab-badge.svg\" alt=\"Open In Colab\"/></a>"
      ]
    },
    {
      "cell_type": "markdown",
      "metadata": {
        "id": "jN45cZNjY_WA"
      },
      "source": [
        "# Object-Oriented Programming\r\n",
        "\r\n",
        "# Class"
      ]
    },
    {
      "cell_type": "code",
      "metadata": {
        "id": "7HwYjlLBYr1y"
      },
      "source": [
        ""
      ],
      "execution_count": null,
      "outputs": []
    }
  ]
}