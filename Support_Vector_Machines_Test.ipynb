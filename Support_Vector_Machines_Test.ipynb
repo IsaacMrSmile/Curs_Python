{
  "nbformat": 4,
  "nbformat_minor": 0,
  "metadata": {
    "colab": {
      "name": "Support Vector Machines_Test.ipynb",
      "private_outputs": true,
      "provenance": [],
      "authorship_tag": "ABX9TyNIRyNsmniskPyuIS86nvzi",
      "include_colab_link": true
    },
    "kernelspec": {
      "name": "python3",
      "display_name": "Python 3"
    }
  },
  "cells": [
    {
      "cell_type": "markdown",
      "metadata": {
        "id": "view-in-github",
        "colab_type": "text"
      },
      "source": [
        "<a href=\"https://colab.research.google.com/github/IsaacMrSmile/Curs_Python/blob/main/Support_Vector_Machines_Test.ipynb\" target=\"_parent\"><img src=\"https://colab.research.google.com/assets/colab-badge.svg\" alt=\"Open In Colab\"/></a>"
      ]
    },
    {
      "cell_type": "markdown",
      "metadata": {
        "id": "KcB_Or4E6qud"
      },
      "source": [
        "# Support Vector Machines\r\n",
        "\r\n"
      ]
    },
    {
      "cell_type": "code",
      "metadata": {
        "id": "V1XXiDDX6A3C"
      },
      "source": [
        "import pandas as pd\r\n",
        "from sklearn.datasets import load_iris # importamos la data, machine learning repository\r\n",
        "from sklearn.model_selection import train_test_split\r\n",
        "iris=load_iris()\r\n",
        "import matplotlib.pyplot as plt\r\n",
        "import numpy as np\r\n"
      ],
      "execution_count": null,
      "outputs": []
    },
    {
      "cell_type": "code",
      "metadata": {
        "id": "qHhtEjuOEvxr"
      },
      "source": [
        "dir(iris)"
      ],
      "execution_count": null,
      "outputs": []
    },
    {
      "cell_type": "code",
      "metadata": {
        "id": "Ky1GFoHYE1jO"
      },
      "source": [
        "iris.feature_names #information labels"
      ],
      "execution_count": null,
      "outputs": []
    },
    {
      "cell_type": "code",
      "metadata": {
        "id": "_Hjf2WhjE70Q"
      },
      "source": [
        "iris.target_names # clasificacion de los valores"
      ],
      "execution_count": null,
      "outputs": []
    },
    {
      "cell_type": "code",
      "metadata": {
        "id": "SIO3r8bzFGp7"
      },
      "source": [
        "# crear un nuevo data frame\r\n",
        "\r\n",
        "df=pd.DataFrame(iris.data, columns = iris.feature_names) # creamos dataframe con irismdata , nombres de la columna iris.features_names\r\n",
        "df.head()"
      ],
      "execution_count": null,
      "outputs": []
    },
    {
      "cell_type": "code",
      "metadata": {
        "id": "cO-WlE_IFdM2"
      },
      "source": [
        "df['target'] =  iris.target # evaluamos con un nuevo dataframe\r\n",
        "df"
      ],
      "execution_count": null,
      "outputs": []
    },
    {
      "cell_type": "code",
      "metadata": {
        "id": "9orWzm9ZGGdY"
      },
      "source": [
        "df['flower_name'] = df.target.apply(lambda x:iris.target_names[x]) # los indices asociados con los detalles de las flores\r\n",
        "# funcion lambda, reemplaza los target_name con valor x\r\n",
        "df.head()"
      ],
      "execution_count": null,
      "outputs": []
    },
    {
      "cell_type": "code",
      "metadata": {
        "id": "I_n4uM20OIcE"
      },
      "source": [
        "# modificacion de dataframe\r\n",
        "\r\n",
        "df[df.target ==1].head()"
      ],
      "execution_count": null,
      "outputs": []
    },
    {
      "cell_type": "code",
      "metadata": {
        "id": "6dVUlX8pObyt"
      },
      "source": [
        "df[df.target ==2].head()"
      ],
      "execution_count": null,
      "outputs": []
    },
    {
      "cell_type": "code",
      "metadata": {
        "id": "MfPNGNCxOfEV"
      },
      "source": [
        "df0=df[:50]\r\n",
        "df1=df[50:100]\r\n",
        "df2=df[100:]"
      ],
      "execution_count": null,
      "outputs": []
    },
    {
      "cell_type": "code",
      "metadata": {
        "id": "KxlUoqaCOvik"
      },
      "source": [
        "%matplotlib inline\r\n",
        "import matplotlib.pyplot as plt\r\n",
        "import pandas as pd\r\n",
        "import numpy as np\r\n",
        "# ploteando flores por categoria\r\n",
        "plt.xlabel(\"Sepal Length\")\r\n",
        "plt.ylabel(\"Sepal Width\")\r\n",
        "plt.scatter(df0['sepal length (cm)'], df0['sepal width (cm)'], color = \"green\")\r\n",
        "plt.scatter(df1['sepal length (cm)'], df1['sepal width (cm)'], color = \"blue\")\r\n",
        "plt.scatter(df2['sepal length (cm)'], df2['sepal width (cm)'], color = \"red\")"
      ],
      "execution_count": null,
      "outputs": []
    },
    {
      "cell_type": "code",
      "metadata": {
        "id": "OEEoFferWiNT"
      },
      "source": [
        "plt.xlabel('Petal Length')\r\n",
        "plt.ylabel('Petal Width')\r\n",
        "plt.scatter(df0['petal length (cm)'], df0['petal width (cm)'], color = \"green\")\r\n",
        "plt.scatter(df1['petal length (cm)'], df1['petal width (cm)'], color = \"blue\")\r\n",
        "plt.scatter(df2['petal length (cm)'], df2['petal width (cm)'], color = \"red\")"
      ],
      "execution_count": null,
      "outputs": []
    },
    {
      "cell_type": "code",
      "metadata": {
        "id": "xbepW7hKYUuK"
      },
      "source": [
        "# nueva clasificacion, class category\r\n",
        "\r\n",
        "x =df.drop(['target','flower_name'], axis= 'columns')\r\n",
        "df.head()\r\n"
      ],
      "execution_count": null,
      "outputs": []
    },
    {
      "cell_type": "code",
      "metadata": {
        "id": "TVhaRIlJZvhT"
      },
      "source": [
        "x.head()"
      ],
      "execution_count": null,
      "outputs": []
    },
    {
      "cell_type": "code",
      "metadata": {
        "id": "HGMt_3JlZzeR"
      },
      "source": [
        "y =df.target"
      ],
      "execution_count": null,
      "outputs": []
    },
    {
      "cell_type": "code",
      "metadata": {
        "id": "1Tj1rEzwZ6tC"
      },
      "source": [
        "x_train, x_test, y_train, y_test = train_test_split(x,y, test_size=0.2)\r\n"
      ],
      "execution_count": null,
      "outputs": []
    },
    {
      "cell_type": "code",
      "metadata": {
        "id": "tTVHKhq7au1Y"
      },
      "source": [
        "len(x_train)"
      ],
      "execution_count": null,
      "outputs": []
    },
    {
      "cell_type": "code",
      "metadata": {
        "id": "QZ-AQI6jbc2z"
      },
      "source": [
        "len(x_test)"
      ],
      "execution_count": null,
      "outputs": []
    },
    {
      "cell_type": "code",
      "metadata": {
        "id": "Gntz1wgSbiDR"
      },
      "source": [
        "x_train"
      ],
      "execution_count": null,
      "outputs": []
    },
    {
      "cell_type": "code",
      "metadata": {
        "id": "QwdtO2B9bk-Y"
      },
      "source": [
        "x_test"
      ],
      "execution_count": null,
      "outputs": []
    },
    {
      "cell_type": "code",
      "metadata": {
        "id": "76ysrF-Mbnzg"
      },
      "source": [
        "y_train"
      ],
      "execution_count": null,
      "outputs": []
    },
    {
      "cell_type": "code",
      "metadata": {
        "id": "FPKUSp-EbpxW"
      },
      "source": [
        "y_test"
      ],
      "execution_count": null,
      "outputs": []
    },
    {
      "cell_type": "code",
      "metadata": {
        "id": "p5Q_cEMVbzvs"
      },
      "source": [
        "from sklearn.svm import SVC\r\n",
        "model= SVC()\r\n",
        "model.fit(x_train, y_train)"
      ],
      "execution_count": null,
      "outputs": []
    },
    {
      "cell_type": "code",
      "metadata": {
        "id": "mKuVkw8XcKnd"
      },
      "source": [
        "model.score(x_test, y_test)"
      ],
      "execution_count": null,
      "outputs": []
    },
    {
      "cell_type": "code",
      "metadata": {
        "id": "AEId1WLIcZL3"
      },
      "source": [
        "model.predict([[4.3, 4.1, 4.9, 4.8]])"
      ],
      "execution_count": null,
      "outputs": []
    },
    {
      "cell_type": "code",
      "metadata": {
        "id": "cWRb3P0qcmWy"
      },
      "source": [
        ""
      ],
      "execution_count": null,
      "outputs": []
    }
  ]
}